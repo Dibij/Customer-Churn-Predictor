{
  "cells": [
    {
      "cell_type": "markdown",
      "metadata": {},
      "source": [
        "# This is probably overfitting"
      ]
    },
    {
      "cell_type": "code",
      "execution_count": 9,
      "metadata": {
        "id": "5uMopVJqRr3t"
      },
      "outputs": [],
      "source": [
        "import pandas as pd\n",
        "import numpy as np\n",
        "import tensorflow as tf\n",
        "import matplotlib.pyplot as plt\n",
        "from sklearn.model_selection import KFold, train_test_split"
      ]
    },
    {
      "cell_type": "code",
      "execution_count": null,
      "metadata": {
        "id": "wYU1gvCUQid0"
      },
      "outputs": [],
      "source": [
        "data = pd.read_csv(r'processed_data\\preprocessed_training.csv')"
      ]
    },
    {
      "cell_type": "code",
      "execution_count": 11,
      "metadata": {
        "colab": {
          "base_uri": "https://localhost:8080/"
        },
        "id": "QjyrKHtiR-vz",
        "outputId": "81f159fa-7114-45aa-df92-17b38ab46ff0"
      },
      "outputs": [
        {
          "data": {
            "text/plain": [
              "(64374, 23)"
            ]
          },
          "execution_count": 11,
          "metadata": {},
          "output_type": "execute_result"
        }
      ],
      "source": [
        "data.shape"
      ]
    },
    {
      "cell_type": "code",
      "execution_count": 13,
      "metadata": {
        "colab": {
          "base_uri": "https://localhost:8080/"
        },
        "id": "D_WrAoQiRuUk",
        "outputId": "a3032c41-5a38-465f-9158-ae48ed14234e"
      },
      "outputs": [
        {
          "name": "stdout",
          "output_type": "stream",
          "text": [
            "Training Fold 1/10\n",
            "Epoch 1/25\n"
          ]
        },
        {
          "name": "stderr",
          "output_type": "stream",
          "text": [
            "/usr/local/lib/python3.11/dist-packages/keras/src/layers/core/dense.py:87: UserWarning: Do not pass an `input_shape`/`input_dim` argument to a layer. When using Sequential models, prefer using an `Input(shape)` object as the first layer in the model instead.\n",
            "  super().__init__(activity_regularizer=activity_regularizer, **kwargs)\n"
          ]
        },
        {
          "name": "stdout",
          "output_type": "stream",
          "text": [
            "\u001b[1m1630/1630\u001b[0m \u001b[32m━━━━━━━━━━━━━━━━━━━━\u001b[0m\u001b[37m\u001b[0m \u001b[1m4s\u001b[0m 2ms/step - accuracy: 0.8461 - loss: 0.3329 - val_accuracy: 0.9201 - val_loss: 0.1786\n",
            "Epoch 2/25\n",
            "\u001b[1m1630/1630\u001b[0m \u001b[32m━━━━━━━━━━━━━━━━━━━━\u001b[0m\u001b[37m\u001b[0m \u001b[1m4s\u001b[0m 2ms/step - accuracy: 0.9266 - loss: 0.1754 - val_accuracy: 0.9013 - val_loss: 0.2320\n",
            "Epoch 3/25\n",
            "\u001b[1m1630/1630\u001b[0m \u001b[32m━━━━━━━━━━━━━━━━━━━━\u001b[0m\u001b[37m\u001b[0m \u001b[1m5s\u001b[0m 2ms/step - accuracy: 0.9412 - loss: 0.1440 - val_accuracy: 0.9560 - val_loss: 0.1104\n",
            "Epoch 4/25\n",
            "\u001b[1m1630/1630\u001b[0m \u001b[32m━━━━━━━━━━━━━━━━━━━━\u001b[0m\u001b[37m\u001b[0m \u001b[1m4s\u001b[0m 3ms/step - accuracy: 0.9539 - loss: 0.1138 - val_accuracy: 0.9613 - val_loss: 0.1009\n",
            "Epoch 5/25\n",
            "\u001b[1m1630/1630\u001b[0m \u001b[32m━━━━━━━━━━━━━━━━━━━━\u001b[0m\u001b[37m\u001b[0m \u001b[1m5s\u001b[0m 3ms/step - accuracy: 0.9621 - loss: 0.0945 - val_accuracy: 0.9263 - val_loss: 0.1829\n",
            "Epoch 6/25\n",
            "\u001b[1m1630/1630\u001b[0m \u001b[32m━━━━━━━━━━━━━━━━━━━━\u001b[0m\u001b[37m\u001b[0m \u001b[1m4s\u001b[0m 2ms/step - accuracy: 0.9615 - loss: 0.0904 - val_accuracy: 0.9631 - val_loss: 0.0893\n",
            "Epoch 7/25\n",
            "\u001b[1m1630/1630\u001b[0m \u001b[32m━━━━━━━━━━━━━━━━━━━━\u001b[0m\u001b[37m\u001b[0m \u001b[1m3s\u001b[0m 2ms/step - accuracy: 0.9671 - loss: 0.0802 - val_accuracy: 0.9676 - val_loss: 0.0773\n",
            "Epoch 8/25\n",
            "\u001b[1m1630/1630\u001b[0m \u001b[32m━━━━━━━━━━━━━━━━━━━━\u001b[0m\u001b[37m\u001b[0m \u001b[1m6s\u001b[0m 3ms/step - accuracy: 0.9688 - loss: 0.0775 - val_accuracy: 0.9703 - val_loss: 0.0706\n",
            "Epoch 9/25\n",
            "\u001b[1m1630/1630\u001b[0m \u001b[32m━━━━━━━━━━━━━━━━━━━━\u001b[0m\u001b[37m\u001b[0m \u001b[1m4s\u001b[0m 2ms/step - accuracy: 0.9706 - loss: 0.0722 - val_accuracy: 0.9708 - val_loss: 0.0700\n",
            "Epoch 10/25\n",
            "\u001b[1m1630/1630\u001b[0m \u001b[32m━━━━━━━━━━━━━━━━━━━━\u001b[0m\u001b[37m\u001b[0m \u001b[1m3s\u001b[0m 2ms/step - accuracy: 0.9718 - loss: 0.0682 - val_accuracy: 0.9717 - val_loss: 0.0657\n",
            "Epoch 11/25\n",
            "\u001b[1m1630/1630\u001b[0m \u001b[32m━━━━━━━━━━━━━━━━━━━━\u001b[0m\u001b[37m\u001b[0m \u001b[1m3s\u001b[0m 2ms/step - accuracy: 0.9727 - loss: 0.0653 - val_accuracy: 0.9700 - val_loss: 0.0753\n",
            "Epoch 12/25\n",
            "\u001b[1m1630/1630\u001b[0m \u001b[32m━━━━━━━━━━━━━━━━━━━━\u001b[0m\u001b[37m\u001b[0m \u001b[1m4s\u001b[0m 3ms/step - accuracy: 0.9726 - loss: 0.0630 - val_accuracy: 0.9707 - val_loss: 0.0657\n",
            "Epoch 13/25\n",
            "\u001b[1m1630/1630\u001b[0m \u001b[32m━━━━━━━━━━━━━━━━━━━━\u001b[0m\u001b[37m\u001b[0m \u001b[1m4s\u001b[0m 2ms/step - accuracy: 0.9756 - loss: 0.0572 - val_accuracy: 0.9717 - val_loss: 0.0676\n",
            "Epoch 14/25\n",
            "\u001b[1m1630/1630\u001b[0m \u001b[32m━━━━━━━━━━━━━━━━━━━━\u001b[0m\u001b[37m\u001b[0m \u001b[1m3s\u001b[0m 2ms/step - accuracy: 0.9736 - loss: 0.0613 - val_accuracy: 0.9719 - val_loss: 0.0618\n",
            "Epoch 15/25\n",
            "\u001b[1m1630/1630\u001b[0m \u001b[32m━━━━━━━━━━━━━━━━━━━━\u001b[0m\u001b[37m\u001b[0m \u001b[1m6s\u001b[0m 3ms/step - accuracy: 0.9751 - loss: 0.0567 - val_accuracy: 0.9770 - val_loss: 0.0638\n",
            "Epoch 16/25\n",
            "\u001b[1m1630/1630\u001b[0m \u001b[32m━━━━━━━━━━━━━━━━━━━━\u001b[0m\u001b[37m\u001b[0m \u001b[1m4s\u001b[0m 2ms/step - accuracy: 0.9772 - loss: 0.0541 - val_accuracy: 0.9743 - val_loss: 0.0605\n",
            "Epoch 17/25\n",
            "\u001b[1m1630/1630\u001b[0m \u001b[32m━━━━━━━━━━━━━━━━━━━━\u001b[0m\u001b[37m\u001b[0m \u001b[1m3s\u001b[0m 2ms/step - accuracy: 0.9763 - loss: 0.0555 - val_accuracy: 0.9639 - val_loss: 0.0833\n",
            "Epoch 18/25\n",
            "\u001b[1m1630/1630\u001b[0m \u001b[32m━━━━━━━━━━━━━━━━━━━━\u001b[0m\u001b[37m\u001b[0m \u001b[1m3s\u001b[0m 2ms/step - accuracy: 0.9765 - loss: 0.0530 - val_accuracy: 0.9741 - val_loss: 0.0672\n",
            "Epoch 19/25\n",
            "\u001b[1m1630/1630\u001b[0m \u001b[32m━━━━━━━━━━━━━━━━━━━━\u001b[0m\u001b[37m\u001b[0m \u001b[1m5s\u001b[0m 3ms/step - accuracy: 0.9766 - loss: 0.0567 - val_accuracy: 0.9757 - val_loss: 0.0600\n",
            "Epoch 20/25\n",
            "\u001b[1m1630/1630\u001b[0m \u001b[32m━━━━━━━━━━━━━━━━━━━━\u001b[0m\u001b[37m\u001b[0m \u001b[1m4s\u001b[0m 2ms/step - accuracy: 0.9806 - loss: 0.0460 - val_accuracy: 0.9717 - val_loss: 0.0672\n",
            "Epoch 21/25\n",
            "\u001b[1m1630/1630\u001b[0m \u001b[32m━━━━━━━━━━━━━━━━━━━━\u001b[0m\u001b[37m\u001b[0m \u001b[1m3s\u001b[0m 2ms/step - accuracy: 0.9788 - loss: 0.0491 - val_accuracy: 0.9732 - val_loss: 0.0655\n",
            "Epoch 22/25\n",
            "\u001b[1m1630/1630\u001b[0m \u001b[32m━━━━━━━━━━━━━━━━━━━━\u001b[0m\u001b[37m\u001b[0m \u001b[1m4s\u001b[0m 2ms/step - accuracy: 0.9785 - loss: 0.0481 - val_accuracy: 0.9745 - val_loss: 0.0636\n",
            "Epoch 23/25\n",
            "\u001b[1m1630/1630\u001b[0m \u001b[32m━━━━━━━━━━━━━━━━━━━━\u001b[0m\u001b[37m\u001b[0m \u001b[1m5s\u001b[0m 2ms/step - accuracy: 0.9814 - loss: 0.0447 - val_accuracy: 0.9745 - val_loss: 0.0676\n",
            "Epoch 24/25\n",
            "\u001b[1m1630/1630\u001b[0m \u001b[32m━━━━━━━━━━━━━━━━━━━━\u001b[0m\u001b[37m\u001b[0m \u001b[1m5s\u001b[0m 2ms/step - accuracy: 0.9801 - loss: 0.0473 - val_accuracy: 0.9774 - val_loss: 0.0588\n",
            "Epoch 25/25\n",
            "\u001b[1m1630/1630\u001b[0m \u001b[32m━━━━━━━━━━━━━━━━━━━━\u001b[0m\u001b[37m\u001b[0m \u001b[1m6s\u001b[0m 3ms/step - accuracy: 0.9817 - loss: 0.0435 - val_accuracy: 0.9751 - val_loss: 0.0580\n",
            "Training Fold 2/10\n",
            "Epoch 1/25\n"
          ]
        },
        {
          "name": "stderr",
          "output_type": "stream",
          "text": [
            "/usr/local/lib/python3.11/dist-packages/keras/src/layers/core/dense.py:87: UserWarning: Do not pass an `input_shape`/`input_dim` argument to a layer. When using Sequential models, prefer using an `Input(shape)` object as the first layer in the model instead.\n",
            "  super().__init__(activity_regularizer=activity_regularizer, **kwargs)\n"
          ]
        },
        {
          "name": "stdout",
          "output_type": "stream",
          "text": [
            "\u001b[1m1630/1630\u001b[0m \u001b[32m━━━━━━━━━━━━━━━━━━━━\u001b[0m\u001b[37m\u001b[0m \u001b[1m4s\u001b[0m 2ms/step - accuracy: 0.8273 - loss: 0.3667 - val_accuracy: 0.9272 - val_loss: 0.1791\n",
            "Epoch 2/25\n",
            "\u001b[1m1630/1630\u001b[0m \u001b[32m━━━━━━━━━━━━━━━━━━━━\u001b[0m\u001b[37m\u001b[0m \u001b[1m5s\u001b[0m 2ms/step - accuracy: 0.9272 - loss: 0.1747 - val_accuracy: 0.9268 - val_loss: 0.1615\n",
            "Epoch 3/25\n",
            "\u001b[1m1630/1630\u001b[0m \u001b[32m━━━━━━━━━━━━━━━━━━━━\u001b[0m\u001b[37m\u001b[0m \u001b[1m4s\u001b[0m 3ms/step - accuracy: 0.9458 - loss: 0.1369 - val_accuracy: 0.9562 - val_loss: 0.1098\n",
            "Epoch 4/25\n",
            "\u001b[1m1630/1630\u001b[0m \u001b[32m━━━━━━━━━━━━━━━━━━━━\u001b[0m\u001b[37m\u001b[0m \u001b[1m4s\u001b[0m 2ms/step - accuracy: 0.9525 - loss: 0.1159 - val_accuracy: 0.9520 - val_loss: 0.1054\n",
            "Epoch 5/25\n",
            "\u001b[1m1630/1630\u001b[0m \u001b[32m━━━━━━━━━━━━━━━━━━━━\u001b[0m\u001b[37m\u001b[0m \u001b[1m6s\u001b[0m 2ms/step - accuracy: 0.9604 - loss: 0.0997 - val_accuracy: 0.9620 - val_loss: 0.0896\n",
            "Epoch 6/25\n",
            "\u001b[1m1630/1630\u001b[0m \u001b[32m━━━━━━━━━━━━━━━━━━━━\u001b[0m\u001b[37m\u001b[0m \u001b[1m5s\u001b[0m 2ms/step - accuracy: 0.9608 - loss: 0.0934 - val_accuracy: 0.9679 - val_loss: 0.0794\n",
            "Epoch 7/25\n",
            "\u001b[1m1630/1630\u001b[0m \u001b[32m━━━━━━━━━━━━━━━━━━━━\u001b[0m\u001b[37m\u001b[0m \u001b[1m5s\u001b[0m 2ms/step - accuracy: 0.9636 - loss: 0.0855 - val_accuracy: 0.9686 - val_loss: 0.0756\n",
            "Epoch 8/25\n",
            "\u001b[1m1630/1630\u001b[0m \u001b[32m━━━━━━━━━━━━━━━━━━━━\u001b[0m\u001b[37m\u001b[0m \u001b[1m6s\u001b[0m 3ms/step - accuracy: 0.9684 - loss: 0.0771 - val_accuracy: 0.9677 - val_loss: 0.0747\n",
            "Epoch 9/25\n",
            "\u001b[1m1630/1630\u001b[0m \u001b[32m━━━━━━━━━━━━━━━━━━━━\u001b[0m\u001b[37m\u001b[0m \u001b[1m3s\u001b[0m 2ms/step - accuracy: 0.9690 - loss: 0.0746 - val_accuracy: 0.9713 - val_loss: 0.0709\n",
            "Epoch 10/25\n",
            "\u001b[1m1630/1630\u001b[0m \u001b[32m━━━━━━━━━━━━━━━━━━━━\u001b[0m\u001b[37m\u001b[0m \u001b[1m5s\u001b[0m 2ms/step - accuracy: 0.9708 - loss: 0.0718 - val_accuracy: 0.9610 - val_loss: 0.0921\n",
            "Epoch 11/25\n",
            "\u001b[1m1630/1630\u001b[0m \u001b[32m━━━━━━━━━━━━━━━━━━━━\u001b[0m\u001b[37m\u001b[0m \u001b[1m5s\u001b[0m 3ms/step - accuracy: 0.9720 - loss: 0.0664 - val_accuracy: 0.9724 - val_loss: 0.0650\n",
            "Epoch 12/25\n",
            "\u001b[1m1630/1630\u001b[0m \u001b[32m━━━━━━━━━━━━━━━━━━━━\u001b[0m\u001b[37m\u001b[0m \u001b[1m3s\u001b[0m 2ms/step - accuracy: 0.9732 - loss: 0.0654 - val_accuracy: 0.9662 - val_loss: 0.0676\n",
            "Epoch 13/25\n",
            "\u001b[1m1630/1630\u001b[0m \u001b[32m━━━━━━━━━━━━━━━━━━━━\u001b[0m\u001b[37m\u001b[0m \u001b[1m5s\u001b[0m 2ms/step - accuracy: 0.9729 - loss: 0.0629 - val_accuracy: 0.9732 - val_loss: 0.0595\n",
            "Epoch 14/25\n",
            "\u001b[1m1630/1630\u001b[0m \u001b[32m━━━━━━━━━━━━━━━━━━━━\u001b[0m\u001b[37m\u001b[0m \u001b[1m6s\u001b[0m 3ms/step - accuracy: 0.9736 - loss: 0.0604 - val_accuracy: 0.9605 - val_loss: 0.1097\n",
            "Epoch 15/25\n",
            "\u001b[1m1630/1630\u001b[0m \u001b[32m━━━━━━━━━━━━━━━━━━━━\u001b[0m\u001b[37m\u001b[0m \u001b[1m4s\u001b[0m 2ms/step - accuracy: 0.9739 - loss: 0.0604 - val_accuracy: 0.9743 - val_loss: 0.0581\n",
            "Epoch 16/25\n",
            "\u001b[1m1630/1630\u001b[0m \u001b[32m━━━━━━━━━━━━━━━━━━━━\u001b[0m\u001b[37m\u001b[0m \u001b[1m5s\u001b[0m 2ms/step - accuracy: 0.9758 - loss: 0.0568 - val_accuracy: 0.9769 - val_loss: 0.0581\n",
            "Epoch 17/25\n",
            "\u001b[1m1630/1630\u001b[0m \u001b[32m━━━━━━━━━━━━━━━━━━━━\u001b[0m\u001b[37m\u001b[0m \u001b[1m5s\u001b[0m 3ms/step - accuracy: 0.9760 - loss: 0.0558 - val_accuracy: 0.9734 - val_loss: 0.0635\n",
            "Epoch 18/25\n",
            "\u001b[1m1630/1630\u001b[0m \u001b[32m━━━━━━━━━━━━━━━━━━━━\u001b[0m\u001b[37m\u001b[0m \u001b[1m4s\u001b[0m 2ms/step - accuracy: 0.9768 - loss: 0.0535 - val_accuracy: 0.9758 - val_loss: 0.0565\n",
            "Epoch 19/25\n",
            "\u001b[1m1630/1630\u001b[0m \u001b[32m━━━━━━━━━━━━━━━━━━━━\u001b[0m\u001b[37m\u001b[0m \u001b[1m3s\u001b[0m 2ms/step - accuracy: 0.9767 - loss: 0.0522 - val_accuracy: 0.9776 - val_loss: 0.0551\n",
            "Epoch 20/25\n",
            "\u001b[1m1630/1630\u001b[0m \u001b[32m━━━━━━━━━━━━━━━━━━━━\u001b[0m\u001b[37m\u001b[0m \u001b[1m4s\u001b[0m 2ms/step - accuracy: 0.9776 - loss: 0.0510 - val_accuracy: 0.9743 - val_loss: 0.0652\n",
            "Epoch 21/25\n",
            "\u001b[1m1630/1630\u001b[0m \u001b[32m━━━━━━━━━━━━━━━━━━━━\u001b[0m\u001b[37m\u001b[0m \u001b[1m5s\u001b[0m 2ms/step - accuracy: 0.9769 - loss: 0.0553 - val_accuracy: 0.9767 - val_loss: 0.0578\n",
            "Epoch 22/25\n",
            "\u001b[1m1630/1630\u001b[0m \u001b[32m━━━━━━━━━━━━━━━━━━━━\u001b[0m\u001b[37m\u001b[0m \u001b[1m5s\u001b[0m 2ms/step - accuracy: 0.9791 - loss: 0.0491 - val_accuracy: 0.9698 - val_loss: 0.0716\n",
            "Epoch 23/25\n",
            "\u001b[1m1630/1630\u001b[0m \u001b[32m━━━━━━━━━━━━━━━━━━━━\u001b[0m\u001b[37m\u001b[0m \u001b[1m6s\u001b[0m 3ms/step - accuracy: 0.9791 - loss: 0.0492 - val_accuracy: 0.9717 - val_loss: 0.0660\n",
            "Epoch 24/25\n",
            "\u001b[1m1630/1630\u001b[0m \u001b[32m━━━━━━━━━━━━━━━━━━━━\u001b[0m\u001b[37m\u001b[0m \u001b[1m3s\u001b[0m 2ms/step - accuracy: 0.9792 - loss: 0.0486 - val_accuracy: 0.9774 - val_loss: 0.0547\n",
            "Epoch 25/25\n",
            "\u001b[1m1630/1630\u001b[0m \u001b[32m━━━━━━━━━━━━━━━━━━━━\u001b[0m\u001b[37m\u001b[0m \u001b[1m3s\u001b[0m 2ms/step - accuracy: 0.9792 - loss: 0.0480 - val_accuracy: 0.9764 - val_loss: 0.0591\n",
            "Training Fold 3/10\n",
            "Epoch 1/25\n"
          ]
        },
        {
          "name": "stderr",
          "output_type": "stream",
          "text": [
            "/usr/local/lib/python3.11/dist-packages/keras/src/layers/core/dense.py:87: UserWarning: Do not pass an `input_shape`/`input_dim` argument to a layer. When using Sequential models, prefer using an `Input(shape)` object as the first layer in the model instead.\n",
            "  super().__init__(activity_regularizer=activity_regularizer, **kwargs)\n"
          ]
        },
        {
          "name": "stdout",
          "output_type": "stream",
          "text": [
            "\u001b[1m1630/1630\u001b[0m \u001b[32m━━━━━━━━━━━━━━━━━━━━\u001b[0m\u001b[37m\u001b[0m \u001b[1m8s\u001b[0m 4ms/step - accuracy: 0.8329 - loss: 0.3508 - val_accuracy: 0.9360 - val_loss: 0.1705\n",
            "Epoch 2/25\n",
            "\u001b[1m1630/1630\u001b[0m \u001b[32m━━━━━━━━━━━━━━━━━━━━\u001b[0m\u001b[37m\u001b[0m \u001b[1m7s\u001b[0m 2ms/step - accuracy: 0.9276 - loss: 0.1764 - val_accuracy: 0.9244 - val_loss: 0.1616\n",
            "Epoch 3/25\n",
            "\u001b[1m1630/1630\u001b[0m \u001b[32m━━━━━━━━━━━━━━━━━━━━\u001b[0m\u001b[37m\u001b[0m \u001b[1m6s\u001b[0m 3ms/step - accuracy: 0.9442 - loss: 0.1402 - val_accuracy: 0.9579 - val_loss: 0.1075\n",
            "Epoch 4/25\n",
            "\u001b[1m1630/1630\u001b[0m \u001b[32m━━━━━━━━━━━━━━━━━━━━\u001b[0m\u001b[37m\u001b[0m \u001b[1m4s\u001b[0m 2ms/step - accuracy: 0.9546 - loss: 0.1150 - val_accuracy: 0.9584 - val_loss: 0.1042\n",
            "Epoch 5/25\n",
            "\u001b[1m1630/1630\u001b[0m \u001b[32m━━━━━━━━━━━━━━━━━━━━\u001b[0m\u001b[37m\u001b[0m \u001b[1m5s\u001b[0m 2ms/step - accuracy: 0.9579 - loss: 0.1026 - val_accuracy: 0.9631 - val_loss: 0.0903\n",
            "Epoch 6/25\n",
            "\u001b[1m1630/1630\u001b[0m \u001b[32m━━━━━━━━━━━━━━━━━━━━\u001b[0m\u001b[37m\u001b[0m \u001b[1m6s\u001b[0m 2ms/step - accuracy: 0.9651 - loss: 0.0865 - val_accuracy: 0.9660 - val_loss: 0.0876\n",
            "Epoch 7/25\n",
            "\u001b[1m1630/1630\u001b[0m \u001b[32m━━━━━━━━━━━━━━━━━━━━\u001b[0m\u001b[37m\u001b[0m \u001b[1m4s\u001b[0m 2ms/step - accuracy: 0.9652 - loss: 0.0848 - val_accuracy: 0.9679 - val_loss: 0.0737\n",
            "Epoch 8/25\n",
            "\u001b[1m1630/1630\u001b[0m \u001b[32m━━━━━━━━━━━━━━━━━━━━\u001b[0m\u001b[37m\u001b[0m \u001b[1m3s\u001b[0m 2ms/step - accuracy: 0.9669 - loss: 0.0781 - val_accuracy: 0.9641 - val_loss: 0.0821\n",
            "Epoch 9/25\n",
            "\u001b[1m1630/1630\u001b[0m \u001b[32m━━━━━━━━━━━━━━━━━━━━\u001b[0m\u001b[37m\u001b[0m \u001b[1m6s\u001b[0m 3ms/step - accuracy: 0.9694 - loss: 0.0727 - val_accuracy: 0.9717 - val_loss: 0.0684\n",
            "Epoch 10/25\n",
            "\u001b[1m1630/1630\u001b[0m \u001b[32m━━━━━━━━━━━━━━━━━━━━\u001b[0m\u001b[37m\u001b[0m \u001b[1m8s\u001b[0m 2ms/step - accuracy: 0.9712 - loss: 0.0692 - val_accuracy: 0.9719 - val_loss: 0.0719\n",
            "Epoch 11/25\n",
            "\u001b[1m1630/1630\u001b[0m \u001b[32m━━━━━━━━━━━━━━━━━━━━\u001b[0m\u001b[37m\u001b[0m \u001b[1m6s\u001b[0m 3ms/step - accuracy: 0.9722 - loss: 0.0662 - val_accuracy: 0.9717 - val_loss: 0.0707\n",
            "Epoch 12/25\n",
            "\u001b[1m1630/1630\u001b[0m \u001b[32m━━━━━━━━━━━━━━━━━━━━\u001b[0m\u001b[37m\u001b[0m \u001b[1m3s\u001b[0m 2ms/step - accuracy: 0.9730 - loss: 0.0651 - val_accuracy: 0.9726 - val_loss: 0.0634\n",
            "Epoch 13/25\n",
            "\u001b[1m1630/1630\u001b[0m \u001b[32m━━━━━━━━━━━━━━━━━━━━\u001b[0m\u001b[37m\u001b[0m \u001b[1m5s\u001b[0m 2ms/step - accuracy: 0.9744 - loss: 0.0603 - val_accuracy: 0.9726 - val_loss: 0.0738\n",
            "Epoch 14/25\n",
            "\u001b[1m1630/1630\u001b[0m \u001b[32m━━━━━━━━━━━━━━━━━━━━\u001b[0m\u001b[37m\u001b[0m \u001b[1m6s\u001b[0m 3ms/step - accuracy: 0.9750 - loss: 0.0574 - val_accuracy: 0.9738 - val_loss: 0.0639\n",
            "Epoch 15/25\n",
            "\u001b[1m1630/1630\u001b[0m \u001b[32m━━━━━━━━━━━━━━━━━━━━\u001b[0m\u001b[37m\u001b[0m \u001b[1m4s\u001b[0m 2ms/step - accuracy: 0.9762 - loss: 0.0565 - val_accuracy: 0.9739 - val_loss: 0.0629\n",
            "Epoch 16/25\n",
            "\u001b[1m1630/1630\u001b[0m \u001b[32m━━━━━━━━━━━━━━━━━━━━\u001b[0m\u001b[37m\u001b[0m \u001b[1m6s\u001b[0m 3ms/step - accuracy: 0.9771 - loss: 0.0523 - val_accuracy: 0.9674 - val_loss: 0.0805\n",
            "Epoch 17/25\n",
            "\u001b[1m1630/1630\u001b[0m \u001b[32m━━━━━━━━━━━━━━━━━━━━\u001b[0m\u001b[37m\u001b[0m \u001b[1m4s\u001b[0m 2ms/step - accuracy: 0.9758 - loss: 0.0564 - val_accuracy: 0.9705 - val_loss: 0.0725\n",
            "Epoch 18/25\n",
            "\u001b[1m1630/1630\u001b[0m \u001b[32m━━━━━━━━━━━━━━━━━━━━\u001b[0m\u001b[37m\u001b[0m \u001b[1m5s\u001b[0m 2ms/step - accuracy: 0.9787 - loss: 0.0510 - val_accuracy: 0.9686 - val_loss: 0.0624\n",
            "Epoch 19/25\n",
            "\u001b[1m1630/1630\u001b[0m \u001b[32m━━━━━━━━━━━━━━━━━━━━\u001b[0m\u001b[37m\u001b[0m \u001b[1m6s\u001b[0m 3ms/step - accuracy: 0.9780 - loss: 0.0510 - val_accuracy: 0.9769 - val_loss: 0.0519\n",
            "Epoch 20/25\n",
            "\u001b[1m1630/1630\u001b[0m \u001b[32m━━━━━━━━━━━━━━━━━━━━\u001b[0m\u001b[37m\u001b[0m \u001b[1m4s\u001b[0m 2ms/step - accuracy: 0.9783 - loss: 0.0477 - val_accuracy: 0.9753 - val_loss: 0.0543\n",
            "Epoch 21/25\n",
            "\u001b[1m1630/1630\u001b[0m \u001b[32m━━━━━━━━━━━━━━━━━━━━\u001b[0m\u001b[37m\u001b[0m \u001b[1m3s\u001b[0m 2ms/step - accuracy: 0.9796 - loss: 0.0471 - val_accuracy: 0.9789 - val_loss: 0.0507\n",
            "Epoch 22/25\n",
            "\u001b[1m1630/1630\u001b[0m \u001b[32m━━━━━━━━━━━━━━━━━━━━\u001b[0m\u001b[37m\u001b[0m \u001b[1m7s\u001b[0m 3ms/step - accuracy: 0.9807 - loss: 0.0449 - val_accuracy: 0.9755 - val_loss: 0.0615\n",
            "Epoch 23/25\n",
            "\u001b[1m1630/1630\u001b[0m \u001b[32m━━━━━━━━━━━━━━━━━━━━\u001b[0m\u001b[37m\u001b[0m \u001b[1m5s\u001b[0m 3ms/step - accuracy: 0.9789 - loss: 0.0477 - val_accuracy: 0.9751 - val_loss: 0.0596\n",
            "Epoch 24/25\n",
            "\u001b[1m1630/1630\u001b[0m \u001b[32m━━━━━━━━━━━━━━━━━━━━\u001b[0m\u001b[37m\u001b[0m \u001b[1m3s\u001b[0m 2ms/step - accuracy: 0.9808 - loss: 0.0461 - val_accuracy: 0.9796 - val_loss: 0.0560\n",
            "Epoch 25/25\n",
            "\u001b[1m1630/1630\u001b[0m \u001b[32m━━━━━━━━━━━━━━━━━━━━\u001b[0m\u001b[37m\u001b[0m \u001b[1m6s\u001b[0m 3ms/step - accuracy: 0.9801 - loss: 0.0447 - val_accuracy: 0.9695 - val_loss: 0.0702\n",
            "Training Fold 4/10\n",
            "Epoch 1/25\n"
          ]
        },
        {
          "name": "stderr",
          "output_type": "stream",
          "text": [
            "/usr/local/lib/python3.11/dist-packages/keras/src/layers/core/dense.py:87: UserWarning: Do not pass an `input_shape`/`input_dim` argument to a layer. When using Sequential models, prefer using an `Input(shape)` object as the first layer in the model instead.\n",
            "  super().__init__(activity_regularizer=activity_regularizer, **kwargs)\n"
          ]
        },
        {
          "name": "stdout",
          "output_type": "stream",
          "text": [
            "\u001b[1m1630/1630\u001b[0m \u001b[32m━━━━━━━━━━━━━━━━━━━━\u001b[0m\u001b[37m\u001b[0m \u001b[1m5s\u001b[0m 2ms/step - accuracy: 0.8400 - loss: 0.3457 - val_accuracy: 0.9218 - val_loss: 0.1875\n",
            "Epoch 2/25\n",
            "\u001b[1m1630/1630\u001b[0m \u001b[32m━━━━━━━━━━━━━━━━━━━━\u001b[0m\u001b[37m\u001b[0m \u001b[1m6s\u001b[0m 3ms/step - accuracy: 0.9253 - loss: 0.1802 - val_accuracy: 0.9287 - val_loss: 0.1590\n",
            "Epoch 3/25\n",
            "\u001b[1m1630/1630\u001b[0m \u001b[32m━━━━━━━━━━━━━━━━━━━━\u001b[0m\u001b[37m\u001b[0m \u001b[1m4s\u001b[0m 2ms/step - accuracy: 0.9406 - loss: 0.1464 - val_accuracy: 0.9548 - val_loss: 0.1214\n",
            "Epoch 4/25\n",
            "\u001b[1m1630/1630\u001b[0m \u001b[32m━━━━━━━━━━━━━━━━━━━━\u001b[0m\u001b[37m\u001b[0m \u001b[1m3s\u001b[0m 2ms/step - accuracy: 0.9503 - loss: 0.1225 - val_accuracy: 0.9563 - val_loss: 0.1062\n",
            "Epoch 5/25\n",
            "\u001b[1m1630/1630\u001b[0m \u001b[32m━━━━━━━━━━━━━━━━━━━━\u001b[0m\u001b[37m\u001b[0m \u001b[1m3s\u001b[0m 2ms/step - accuracy: 0.9564 - loss: 0.1045 - val_accuracy: 0.9638 - val_loss: 0.0956\n",
            "Epoch 6/25\n",
            "\u001b[1m1630/1630\u001b[0m \u001b[32m━━━━━━━━━━━━━━━━━━━━\u001b[0m\u001b[37m\u001b[0m \u001b[1m5s\u001b[0m 3ms/step - accuracy: 0.9625 - loss: 0.0924 - val_accuracy: 0.9624 - val_loss: 0.0884\n",
            "Epoch 7/25\n",
            "\u001b[1m1630/1630\u001b[0m \u001b[32m━━━━━━━━━━━━━━━━━━━━\u001b[0m\u001b[37m\u001b[0m \u001b[1m4s\u001b[0m 2ms/step - accuracy: 0.9652 - loss: 0.0838 - val_accuracy: 0.9413 - val_loss: 0.1331\n",
            "Epoch 8/25\n",
            "\u001b[1m1630/1630\u001b[0m \u001b[32m━━━━━━━━━━━━━━━━━━━━\u001b[0m\u001b[37m\u001b[0m \u001b[1m5s\u001b[0m 2ms/step - accuracy: 0.9680 - loss: 0.0769 - val_accuracy: 0.9682 - val_loss: 0.0770\n",
            "Epoch 9/25\n",
            "\u001b[1m1630/1630\u001b[0m \u001b[32m━━━━━━━━━━━━━━━━━━━━\u001b[0m\u001b[37m\u001b[0m \u001b[1m5s\u001b[0m 3ms/step - accuracy: 0.9691 - loss: 0.0729 - val_accuracy: 0.9701 - val_loss: 0.0722\n",
            "Epoch 10/25\n",
            "\u001b[1m1630/1630\u001b[0m \u001b[32m━━━━━━━━━━━━━━━━━━━━\u001b[0m\u001b[37m\u001b[0m \u001b[1m3s\u001b[0m 2ms/step - accuracy: 0.9712 - loss: 0.0673 - val_accuracy: 0.9746 - val_loss: 0.0654\n",
            "Epoch 11/25\n",
            "\u001b[1m1630/1630\u001b[0m \u001b[32m━━━━━━━━━━━━━━━━━━━━\u001b[0m\u001b[37m\u001b[0m \u001b[1m3s\u001b[0m 2ms/step - accuracy: 0.9725 - loss: 0.0635 - val_accuracy: 0.9743 - val_loss: 0.0678\n",
            "Epoch 12/25\n",
            "\u001b[1m1630/1630\u001b[0m \u001b[32m━━━━━━━━━━━━━━━━━━━━\u001b[0m\u001b[37m\u001b[0m \u001b[1m3s\u001b[0m 2ms/step - accuracy: 0.9737 - loss: 0.0621 - val_accuracy: 0.9574 - val_loss: 0.0964\n",
            "Epoch 13/25\n",
            "\u001b[1m1630/1630\u001b[0m \u001b[32m━━━━━━━━━━━━━━━━━━━━\u001b[0m\u001b[37m\u001b[0m \u001b[1m5s\u001b[0m 2ms/step - accuracy: 0.9739 - loss: 0.0606 - val_accuracy: 0.9724 - val_loss: 0.0673\n",
            "Epoch 14/25\n",
            "\u001b[1m1630/1630\u001b[0m \u001b[32m━━━━━━━━━━━━━━━━━━━━\u001b[0m\u001b[37m\u001b[0m \u001b[1m3s\u001b[0m 2ms/step - accuracy: 0.9757 - loss: 0.0564 - val_accuracy: 0.9729 - val_loss: 0.0655\n",
            "Epoch 15/25\n",
            "\u001b[1m1630/1630\u001b[0m \u001b[32m━━━━━━━━━━━━━━━━━━━━\u001b[0m\u001b[37m\u001b[0m \u001b[1m6s\u001b[0m 2ms/step - accuracy: 0.9744 - loss: 0.0615 - val_accuracy: 0.9700 - val_loss: 0.0667\n",
            "Training Fold 5/10\n",
            "Epoch 1/25\n"
          ]
        },
        {
          "name": "stderr",
          "output_type": "stream",
          "text": [
            "/usr/local/lib/python3.11/dist-packages/keras/src/layers/core/dense.py:87: UserWarning: Do not pass an `input_shape`/`input_dim` argument to a layer. When using Sequential models, prefer using an `Input(shape)` object as the first layer in the model instead.\n",
            "  super().__init__(activity_regularizer=activity_regularizer, **kwargs)\n"
          ]
        },
        {
          "name": "stdout",
          "output_type": "stream",
          "text": [
            "\u001b[1m1630/1630\u001b[0m \u001b[32m━━━━━━━━━━━━━━━━━━━━\u001b[0m\u001b[37m\u001b[0m \u001b[1m5s\u001b[0m 2ms/step - accuracy: 0.8351 - loss: 0.3501 - val_accuracy: 0.8951 - val_loss: 0.2283\n",
            "Epoch 2/25\n",
            "\u001b[1m1630/1630\u001b[0m \u001b[32m━━━━━━━━━━━━━━━━━━━━\u001b[0m\u001b[37m\u001b[0m \u001b[1m5s\u001b[0m 2ms/step - accuracy: 0.9226 - loss: 0.1824 - val_accuracy: 0.9298 - val_loss: 0.1526\n",
            "Epoch 3/25\n",
            "\u001b[1m1630/1630\u001b[0m \u001b[32m━━━━━━━━━━━━━━━━━━━━\u001b[0m\u001b[37m\u001b[0m \u001b[1m5s\u001b[0m 3ms/step - accuracy: 0.9412 - loss: 0.1412 - val_accuracy: 0.9503 - val_loss: 0.1200\n",
            "Epoch 4/25\n",
            "\u001b[1m1630/1630\u001b[0m \u001b[32m━━━━━━━━━━━━━━━━━━━━\u001b[0m\u001b[37m\u001b[0m \u001b[1m3s\u001b[0m 2ms/step - accuracy: 0.9542 - loss: 0.1135 - val_accuracy: 0.9572 - val_loss: 0.1026\n",
            "Epoch 5/25\n",
            "\u001b[1m1630/1630\u001b[0m \u001b[32m━━━━━━━━━━━━━━━━━━━━\u001b[0m\u001b[37m\u001b[0m \u001b[1m5s\u001b[0m 2ms/step - accuracy: 0.9610 - loss: 0.0961 - val_accuracy: 0.9617 - val_loss: 0.0865\n",
            "Epoch 6/25\n",
            "\u001b[1m1630/1630\u001b[0m \u001b[32m━━━━━━━━━━━━━━━━━━━━\u001b[0m\u001b[37m\u001b[0m \u001b[1m5s\u001b[0m 3ms/step - accuracy: 0.9641 - loss: 0.0889 - val_accuracy: 0.9334 - val_loss: 0.1479\n",
            "Epoch 7/25\n",
            "\u001b[1m1630/1630\u001b[0m \u001b[32m━━━━━━━━━━━━━━━━━━━━\u001b[0m\u001b[37m\u001b[0m \u001b[1m4s\u001b[0m 2ms/step - accuracy: 0.9649 - loss: 0.0841 - val_accuracy: 0.9622 - val_loss: 0.0836\n",
            "Epoch 8/25\n",
            "\u001b[1m1630/1630\u001b[0m \u001b[32m━━━━━━━━━━━━━━━━━━━━\u001b[0m\u001b[37m\u001b[0m \u001b[1m5s\u001b[0m 2ms/step - accuracy: 0.9666 - loss: 0.0787 - val_accuracy: 0.9629 - val_loss: 0.0913\n",
            "Epoch 9/25\n",
            "\u001b[1m1630/1630\u001b[0m \u001b[32m━━━━━━━━━━━━━━━━━━━━\u001b[0m\u001b[37m\u001b[0m \u001b[1m6s\u001b[0m 3ms/step - accuracy: 0.9703 - loss: 0.0727 - val_accuracy: 0.9707 - val_loss: 0.0680\n",
            "Epoch 10/25\n",
            "\u001b[1m1630/1630\u001b[0m \u001b[32m━━━━━━━━━━━━━━━━━━━━\u001b[0m\u001b[37m\u001b[0m \u001b[1m4s\u001b[0m 2ms/step - accuracy: 0.9714 - loss: 0.0697 - val_accuracy: 0.9729 - val_loss: 0.0699\n",
            "Epoch 11/25\n",
            "\u001b[1m1630/1630\u001b[0m \u001b[32m━━━━━━━━━━━━━━━━━━━━\u001b[0m\u001b[37m\u001b[0m \u001b[1m3s\u001b[0m 2ms/step - accuracy: 0.9720 - loss: 0.0686 - val_accuracy: 0.9722 - val_loss: 0.0690\n",
            "Epoch 12/25\n",
            "\u001b[1m1630/1630\u001b[0m \u001b[32m━━━━━━━━━━━━━━━━━━━━\u001b[0m\u001b[37m\u001b[0m \u001b[1m6s\u001b[0m 3ms/step - accuracy: 0.9712 - loss: 0.0668 - val_accuracy: 0.9703 - val_loss: 0.0763\n",
            "Epoch 13/25\n",
            "\u001b[1m1630/1630\u001b[0m \u001b[32m━━━━━━━━━━━━━━━━━━━━\u001b[0m\u001b[37m\u001b[0m \u001b[1m3s\u001b[0m 2ms/step - accuracy: 0.9751 - loss: 0.0604 - val_accuracy: 0.9712 - val_loss: 0.0692\n",
            "Epoch 14/25\n",
            "\u001b[1m1630/1630\u001b[0m \u001b[32m━━━━━━━━━━━━━━━━━━━━\u001b[0m\u001b[37m\u001b[0m \u001b[1m5s\u001b[0m 2ms/step - accuracy: 0.9749 - loss: 0.0607 - val_accuracy: 0.9655 - val_loss: 0.0822\n",
            "Training Fold 6/10\n",
            "Epoch 1/25\n"
          ]
        },
        {
          "name": "stderr",
          "output_type": "stream",
          "text": [
            "/usr/local/lib/python3.11/dist-packages/keras/src/layers/core/dense.py:87: UserWarning: Do not pass an `input_shape`/`input_dim` argument to a layer. When using Sequential models, prefer using an `Input(shape)` object as the first layer in the model instead.\n",
            "  super().__init__(activity_regularizer=activity_regularizer, **kwargs)\n"
          ]
        },
        {
          "name": "stdout",
          "output_type": "stream",
          "text": [
            "\u001b[1m1630/1630\u001b[0m \u001b[32m━━━━━━━━━━━━━━━━━━━━\u001b[0m\u001b[37m\u001b[0m \u001b[1m5s\u001b[0m 2ms/step - accuracy: 0.8255 - loss: 0.3750 - val_accuracy: 0.9296 - val_loss: 0.1722\n",
            "Epoch 2/25\n",
            "\u001b[1m1630/1630\u001b[0m \u001b[32m━━━━━━━━━━━━━━━━━━━━\u001b[0m\u001b[37m\u001b[0m \u001b[1m3s\u001b[0m 2ms/step - accuracy: 0.9291 - loss: 0.1714 - val_accuracy: 0.9486 - val_loss: 0.1395\n",
            "Epoch 3/25\n",
            "\u001b[1m1630/1630\u001b[0m \u001b[32m━━━━━━━━━━━━━━━━━━━━\u001b[0m\u001b[37m\u001b[0m \u001b[1m4s\u001b[0m 2ms/step - accuracy: 0.9442 - loss: 0.1383 - val_accuracy: 0.9589 - val_loss: 0.1135\n",
            "Epoch 4/25\n",
            "\u001b[1m1630/1630\u001b[0m \u001b[32m━━━━━━━━━━━━━━━━━━━━\u001b[0m\u001b[37m\u001b[0m \u001b[1m5s\u001b[0m 2ms/step - accuracy: 0.9505 - loss: 0.1199 - val_accuracy: 0.9646 - val_loss: 0.0965\n",
            "Epoch 5/25\n",
            "\u001b[1m1630/1630\u001b[0m \u001b[32m━━━━━━━━━━━━━━━━━━━━\u001b[0m\u001b[37m\u001b[0m \u001b[1m5s\u001b[0m 2ms/step - accuracy: 0.9586 - loss: 0.1025 - val_accuracy: 0.9572 - val_loss: 0.0985\n",
            "Epoch 6/25\n",
            "\u001b[1m1630/1630\u001b[0m \u001b[32m━━━━━━━━━━━━━━━━━━━━\u001b[0m\u001b[37m\u001b[0m \u001b[1m4s\u001b[0m 2ms/step - accuracy: 0.9612 - loss: 0.0907 - val_accuracy: 0.9689 - val_loss: 0.0803\n",
            "Epoch 7/25\n",
            "\u001b[1m1630/1630\u001b[0m \u001b[32m━━━━━━━━━━━━━━━━━━━━\u001b[0m\u001b[37m\u001b[0m \u001b[1m5s\u001b[0m 2ms/step - accuracy: 0.9650 - loss: 0.0821 - val_accuracy: 0.9636 - val_loss: 0.0843\n",
            "Epoch 8/25\n",
            "\u001b[1m1630/1630\u001b[0m \u001b[32m━━━━━━━━━━━━━━━━━━━━\u001b[0m\u001b[37m\u001b[0m \u001b[1m6s\u001b[0m 3ms/step - accuracy: 0.9692 - loss: 0.0749 - val_accuracy: 0.9662 - val_loss: 0.0733\n",
            "Epoch 9/25\n",
            "\u001b[1m1630/1630\u001b[0m \u001b[32m━━━━━━━━━━━━━━━━━━━━\u001b[0m\u001b[37m\u001b[0m \u001b[1m5s\u001b[0m 3ms/step - accuracy: 0.9697 - loss: 0.0716 - val_accuracy: 0.9715 - val_loss: 0.0697\n",
            "Epoch 10/25\n",
            "\u001b[1m1630/1630\u001b[0m \u001b[32m━━━━━━━━━━━━━━━━━━━━\u001b[0m\u001b[37m\u001b[0m \u001b[1m3s\u001b[0m 2ms/step - accuracy: 0.9701 - loss: 0.0701 - val_accuracy: 0.9731 - val_loss: 0.0647\n",
            "Epoch 11/25\n",
            "\u001b[1m1630/1630\u001b[0m \u001b[32m━━━━━━━━━━━━━━━━━━━━\u001b[0m\u001b[37m\u001b[0m \u001b[1m3s\u001b[0m 2ms/step - accuracy: 0.9695 - loss: 0.0700 - val_accuracy: 0.9757 - val_loss: 0.0607\n",
            "Epoch 12/25\n",
            "\u001b[1m1630/1630\u001b[0m \u001b[32m━━━━━━━━━━━━━━━━━━━━\u001b[0m\u001b[37m\u001b[0m \u001b[1m4s\u001b[0m 2ms/step - accuracy: 0.9727 - loss: 0.0649 - val_accuracy: 0.9705 - val_loss: 0.0709\n",
            "Epoch 13/25\n",
            "\u001b[1m1630/1630\u001b[0m \u001b[32m━━━━━━━━━━━━━━━━━━━━\u001b[0m\u001b[37m\u001b[0m \u001b[1m4s\u001b[0m 3ms/step - accuracy: 0.9732 - loss: 0.0619 - val_accuracy: 0.9712 - val_loss: 0.0698\n",
            "Epoch 14/25\n",
            "\u001b[1m1630/1630\u001b[0m \u001b[32m━━━━━━━━━━━━━━━━━━━━\u001b[0m\u001b[37m\u001b[0m \u001b[1m3s\u001b[0m 2ms/step - accuracy: 0.9747 - loss: 0.0583 - val_accuracy: 0.9739 - val_loss: 0.0708\n",
            "Epoch 15/25\n",
            "\u001b[1m1630/1630\u001b[0m \u001b[32m━━━━━━━━━━━━━━━━━━━━\u001b[0m\u001b[37m\u001b[0m \u001b[1m5s\u001b[0m 2ms/step - accuracy: 0.9754 - loss: 0.0572 - val_accuracy: 0.9726 - val_loss: 0.0675\n",
            "Epoch 16/25\n",
            "\u001b[1m1630/1630\u001b[0m \u001b[32m━━━━━━━━━━━━━━━━━━━━\u001b[0m\u001b[37m\u001b[0m \u001b[1m5s\u001b[0m 3ms/step - accuracy: 0.9759 - loss: 0.0560 - val_accuracy: 0.9755 - val_loss: 0.0596\n",
            "Epoch 17/25\n",
            "\u001b[1m1630/1630\u001b[0m \u001b[32m━━━━━━━━━━━━━━━━━━━━\u001b[0m\u001b[37m\u001b[0m \u001b[1m3s\u001b[0m 2ms/step - accuracy: 0.9764 - loss: 0.0531 - val_accuracy: 0.9686 - val_loss: 0.0736\n",
            "Epoch 18/25\n",
            "\u001b[1m1630/1630\u001b[0m \u001b[32m━━━━━━━━━━━━━━━━━━━━\u001b[0m\u001b[37m\u001b[0m \u001b[1m5s\u001b[0m 2ms/step - accuracy: 0.9771 - loss: 0.0510 - val_accuracy: 0.9750 - val_loss: 0.0588\n",
            "Epoch 19/25\n",
            "\u001b[1m1630/1630\u001b[0m \u001b[32m━━━━━━━━━━━━━━━━━━━━\u001b[0m\u001b[37m\u001b[0m \u001b[1m4s\u001b[0m 3ms/step - accuracy: 0.9790 - loss: 0.0506 - val_accuracy: 0.9784 - val_loss: 0.0542\n",
            "Epoch 20/25\n",
            "\u001b[1m1630/1630\u001b[0m \u001b[32m━━━━━━━━━━━━━━━━━━━━\u001b[0m\u001b[37m\u001b[0m \u001b[1m4s\u001b[0m 2ms/step - accuracy: 0.9783 - loss: 0.0507 - val_accuracy: 0.9669 - val_loss: 0.0814\n",
            "Epoch 21/25\n",
            "\u001b[1m1630/1630\u001b[0m \u001b[32m━━━━━━━━━━━━━━━━━━━━\u001b[0m\u001b[37m\u001b[0m \u001b[1m3s\u001b[0m 2ms/step - accuracy: 0.9786 - loss: 0.0490 - val_accuracy: 0.9777 - val_loss: 0.0552\n",
            "Epoch 22/25\n",
            "\u001b[1m1630/1630\u001b[0m \u001b[32m━━━━━━━━━━━━━━━━━━━━\u001b[0m\u001b[37m\u001b[0m \u001b[1m6s\u001b[0m 3ms/step - accuracy: 0.9796 - loss: 0.0486 - val_accuracy: 0.9777 - val_loss: 0.0524\n",
            "Epoch 23/25\n",
            "\u001b[1m1630/1630\u001b[0m \u001b[32m━━━━━━━━━━━━━━━━━━━━\u001b[0m\u001b[37m\u001b[0m \u001b[1m4s\u001b[0m 2ms/step - accuracy: 0.9804 - loss: 0.0454 - val_accuracy: 0.9724 - val_loss: 0.0628\n",
            "Epoch 24/25\n",
            "\u001b[1m1630/1630\u001b[0m \u001b[32m━━━━━━━━━━━━━━━━━━━━\u001b[0m\u001b[37m\u001b[0m \u001b[1m5s\u001b[0m 2ms/step - accuracy: 0.9796 - loss: 0.0471 - val_accuracy: 0.9707 - val_loss: 0.0681\n",
            "Epoch 25/25\n",
            "\u001b[1m1630/1630\u001b[0m \u001b[32m━━━━━━━━━━━━━━━━━━━━\u001b[0m\u001b[37m\u001b[0m \u001b[1m6s\u001b[0m 3ms/step - accuracy: 0.9792 - loss: 0.0472 - val_accuracy: 0.9657 - val_loss: 0.0869\n",
            "Training Fold 7/10\n",
            "Epoch 1/25\n"
          ]
        },
        {
          "name": "stderr",
          "output_type": "stream",
          "text": [
            "/usr/local/lib/python3.11/dist-packages/keras/src/layers/core/dense.py:87: UserWarning: Do not pass an `input_shape`/`input_dim` argument to a layer. When using Sequential models, prefer using an `Input(shape)` object as the first layer in the model instead.\n",
            "  super().__init__(activity_regularizer=activity_regularizer, **kwargs)\n"
          ]
        },
        {
          "name": "stdout",
          "output_type": "stream",
          "text": [
            "\u001b[1m1630/1630\u001b[0m \u001b[32m━━━━━━━━━━━━━━━━━━━━\u001b[0m\u001b[37m\u001b[0m \u001b[1m5s\u001b[0m 2ms/step - accuracy: 0.8313 - loss: 0.3591 - val_accuracy: 0.9185 - val_loss: 0.1902\n",
            "Epoch 2/25\n",
            "\u001b[1m1630/1630\u001b[0m \u001b[32m━━━━━━━━━━━━━━━━━━━━\u001b[0m\u001b[37m\u001b[0m \u001b[1m3s\u001b[0m 2ms/step - accuracy: 0.9235 - loss: 0.1835 - val_accuracy: 0.9373 - val_loss: 0.1531\n",
            "Epoch 3/25\n",
            "\u001b[1m1630/1630\u001b[0m \u001b[32m━━━━━━━━━━━━━━━━━━━━\u001b[0m\u001b[37m\u001b[0m \u001b[1m5s\u001b[0m 2ms/step - accuracy: 0.9447 - loss: 0.1384 - val_accuracy: 0.9529 - val_loss: 0.1245\n",
            "Epoch 4/25\n",
            "\u001b[1m1630/1630\u001b[0m \u001b[32m━━━━━━━━━━━━━━━━━━━━\u001b[0m\u001b[37m\u001b[0m \u001b[1m3s\u001b[0m 2ms/step - accuracy: 0.9517 - loss: 0.1191 - val_accuracy: 0.9636 - val_loss: 0.1009\n",
            "Epoch 5/25\n",
            "\u001b[1m1630/1630\u001b[0m \u001b[32m━━━━━━━━━━━━━━━━━━━━\u001b[0m\u001b[37m\u001b[0m \u001b[1m6s\u001b[0m 3ms/step - accuracy: 0.9571 - loss: 0.1069 - val_accuracy: 0.9568 - val_loss: 0.1006\n",
            "Epoch 6/25\n",
            "\u001b[1m1630/1630\u001b[0m \u001b[32m━━━━━━━━━━━━━━━━━━━━\u001b[0m\u001b[37m\u001b[0m \u001b[1m4s\u001b[0m 2ms/step - accuracy: 0.9613 - loss: 0.0945 - val_accuracy: 0.9655 - val_loss: 0.0866\n",
            "Epoch 7/25\n",
            "\u001b[1m1630/1630\u001b[0m \u001b[32m━━━━━━━━━━━━━━━━━━━━\u001b[0m\u001b[37m\u001b[0m \u001b[1m3s\u001b[0m 2ms/step - accuracy: 0.9655 - loss: 0.0830 - val_accuracy: 0.9589 - val_loss: 0.0982\n",
            "Epoch 8/25\n",
            "\u001b[1m1630/1630\u001b[0m \u001b[32m━━━━━━━━━━━━━━━━━━━━\u001b[0m\u001b[37m\u001b[0m \u001b[1m6s\u001b[0m 3ms/step - accuracy: 0.9657 - loss: 0.0800 - val_accuracy: 0.9615 - val_loss: 0.0938\n",
            "Epoch 9/25\n",
            "\u001b[1m1630/1630\u001b[0m \u001b[32m━━━━━━━━━━━━━━━━━━━━\u001b[0m\u001b[37m\u001b[0m \u001b[1m4s\u001b[0m 2ms/step - accuracy: 0.9697 - loss: 0.0734 - val_accuracy: 0.9717 - val_loss: 0.0721\n",
            "Epoch 10/25\n",
            "\u001b[1m1630/1630\u001b[0m \u001b[32m━━━━━━━━━━━━━━━━━━━━\u001b[0m\u001b[37m\u001b[0m \u001b[1m5s\u001b[0m 2ms/step - accuracy: 0.9682 - loss: 0.0738 - val_accuracy: 0.9663 - val_loss: 0.0794\n",
            "Epoch 11/25\n",
            "\u001b[1m1630/1630\u001b[0m \u001b[32m━━━━━━━━━━━━━━━━━━━━\u001b[0m\u001b[37m\u001b[0m \u001b[1m5s\u001b[0m 3ms/step - accuracy: 0.9714 - loss: 0.0676 - val_accuracy: 0.9691 - val_loss: 0.0720\n",
            "Epoch 12/25\n",
            "\u001b[1m1630/1630\u001b[0m \u001b[32m━━━━━━━━━━━━━━━━━━━━\u001b[0m\u001b[37m\u001b[0m \u001b[1m8s\u001b[0m 2ms/step - accuracy: 0.9740 - loss: 0.0639 - val_accuracy: 0.9713 - val_loss: 0.0655\n",
            "Epoch 13/25\n",
            "\u001b[1m1630/1630\u001b[0m \u001b[32m━━━━━━━━━━━━━━━━━━━━\u001b[0m\u001b[37m\u001b[0m \u001b[1m4s\u001b[0m 2ms/step - accuracy: 0.9726 - loss: 0.0659 - val_accuracy: 0.9739 - val_loss: 0.0626\n",
            "Epoch 14/25\n",
            "\u001b[1m1630/1630\u001b[0m \u001b[32m━━━━━━━━━━━━━━━━━━━━\u001b[0m\u001b[37m\u001b[0m \u001b[1m4s\u001b[0m 3ms/step - accuracy: 0.9761 - loss: 0.0582 - val_accuracy: 0.9748 - val_loss: 0.0620\n",
            "Epoch 15/25\n",
            "\u001b[1m1630/1630\u001b[0m \u001b[32m━━━━━━━━━━━━━━━━━━━━\u001b[0m\u001b[37m\u001b[0m \u001b[1m4s\u001b[0m 2ms/step - accuracy: 0.9745 - loss: 0.0597 - val_accuracy: 0.9705 - val_loss: 0.0664\n",
            "Epoch 16/25\n",
            "\u001b[1m1630/1630\u001b[0m \u001b[32m━━━━━━━━━━━━━━━━━━━━\u001b[0m\u001b[37m\u001b[0m \u001b[1m5s\u001b[0m 2ms/step - accuracy: 0.9759 - loss: 0.0584 - val_accuracy: 0.9722 - val_loss: 0.0656\n",
            "Epoch 17/25\n",
            "\u001b[1m1630/1630\u001b[0m \u001b[32m━━━━━━━━━━━━━━━━━━━━\u001b[0m\u001b[37m\u001b[0m \u001b[1m4s\u001b[0m 3ms/step - accuracy: 0.9775 - loss: 0.0549 - val_accuracy: 0.9700 - val_loss: 0.0681\n",
            "Epoch 18/25\n",
            "\u001b[1m1630/1630\u001b[0m \u001b[32m━━━━━━━━━━━━━━━━━━━━\u001b[0m\u001b[37m\u001b[0m \u001b[1m3s\u001b[0m 2ms/step - accuracy: 0.9778 - loss: 0.0531 - val_accuracy: 0.9739 - val_loss: 0.0619\n",
            "Epoch 19/25\n",
            "\u001b[1m1630/1630\u001b[0m \u001b[32m━━━━━━━━━━━━━━━━━━━━\u001b[0m\u001b[37m\u001b[0m \u001b[1m5s\u001b[0m 2ms/step - accuracy: 0.9786 - loss: 0.0510 - val_accuracy: 0.9739 - val_loss: 0.0565\n",
            "Epoch 20/25\n",
            "\u001b[1m1630/1630\u001b[0m \u001b[32m━━━━━━━━━━━━━━━━━━━━\u001b[0m\u001b[37m\u001b[0m \u001b[1m6s\u001b[0m 2ms/step - accuracy: 0.9783 - loss: 0.0529 - val_accuracy: 0.9693 - val_loss: 0.0796\n",
            "Epoch 21/25\n",
            "\u001b[1m1630/1630\u001b[0m \u001b[32m━━━━━━━━━━━━━━━━━━━━\u001b[0m\u001b[37m\u001b[0m \u001b[1m3s\u001b[0m 2ms/step - accuracy: 0.9785 - loss: 0.0509 - val_accuracy: 0.9700 - val_loss: 0.0685\n",
            "Epoch 22/25\n",
            "\u001b[1m1630/1630\u001b[0m \u001b[32m━━━━━━━━━━━━━━━━━━━━\u001b[0m\u001b[37m\u001b[0m \u001b[1m5s\u001b[0m 2ms/step - accuracy: 0.9801 - loss: 0.0472 - val_accuracy: 0.9656 - val_loss: 0.0985\n",
            "Epoch 23/25\n",
            "\u001b[1m1630/1630\u001b[0m \u001b[32m━━━━━━━━━━━━━━━━━━━━\u001b[0m\u001b[37m\u001b[0m \u001b[1m4s\u001b[0m 3ms/step - accuracy: 0.9788 - loss: 0.0521 - val_accuracy: 0.9781 - val_loss: 0.0546\n",
            "Epoch 24/25\n",
            "\u001b[1m1630/1630\u001b[0m \u001b[32m━━━━━━━━━━━━━━━━━━━━\u001b[0m\u001b[37m\u001b[0m \u001b[1m3s\u001b[0m 2ms/step - accuracy: 0.9762 - loss: 0.0571 - val_accuracy: 0.9745 - val_loss: 0.0617\n",
            "Epoch 25/25\n",
            "\u001b[1m1630/1630\u001b[0m \u001b[32m━━━━━━━━━━━━━━━━━━━━\u001b[0m\u001b[37m\u001b[0m \u001b[1m5s\u001b[0m 2ms/step - accuracy: 0.9820 - loss: 0.0434 - val_accuracy: 0.9774 - val_loss: 0.0581\n",
            "Training Fold 8/10\n",
            "Epoch 1/25\n"
          ]
        },
        {
          "name": "stderr",
          "output_type": "stream",
          "text": [
            "/usr/local/lib/python3.11/dist-packages/keras/src/layers/core/dense.py:87: UserWarning: Do not pass an `input_shape`/`input_dim` argument to a layer. When using Sequential models, prefer using an `Input(shape)` object as the first layer in the model instead.\n",
            "  super().__init__(activity_regularizer=activity_regularizer, **kwargs)\n"
          ]
        },
        {
          "name": "stdout",
          "output_type": "stream",
          "text": [
            "\u001b[1m1630/1630\u001b[0m \u001b[32m━━━━━━━━━━━━━━━━━━━━\u001b[0m\u001b[37m\u001b[0m \u001b[1m5s\u001b[0m 2ms/step - accuracy: 0.8385 - loss: 0.3451 - val_accuracy: 0.9247 - val_loss: 0.1852\n",
            "Epoch 2/25\n",
            "\u001b[1m1630/1630\u001b[0m \u001b[32m━━━━━━━━━━━━━━━━━━━━\u001b[0m\u001b[37m\u001b[0m \u001b[1m3s\u001b[0m 2ms/step - accuracy: 0.9290 - loss: 0.1727 - val_accuracy: 0.9404 - val_loss: 0.1487\n",
            "Epoch 3/25\n",
            "\u001b[1m1630/1630\u001b[0m \u001b[32m━━━━━━━━━━━━━━━━━━━━\u001b[0m\u001b[37m\u001b[0m \u001b[1m4s\u001b[0m 3ms/step - accuracy: 0.9444 - loss: 0.1387 - val_accuracy: 0.9539 - val_loss: 0.1203\n",
            "Epoch 4/25\n",
            "\u001b[1m1630/1630\u001b[0m \u001b[32m━━━━━━━━━━━━━━━━━━━━\u001b[0m\u001b[37m\u001b[0m \u001b[1m4s\u001b[0m 2ms/step - accuracy: 0.9511 - loss: 0.1191 - val_accuracy: 0.9499 - val_loss: 0.1274\n",
            "Epoch 5/25\n",
            "\u001b[1m1630/1630\u001b[0m \u001b[32m━━━━━━━━━━━━━━━━━━━━\u001b[0m\u001b[37m\u001b[0m \u001b[1m3s\u001b[0m 2ms/step - accuracy: 0.9592 - loss: 0.1001 - val_accuracy: 0.9522 - val_loss: 0.1064\n",
            "Epoch 6/25\n",
            "\u001b[1m1630/1630\u001b[0m \u001b[32m━━━━━━━━━━━━━━━━━━━━\u001b[0m\u001b[37m\u001b[0m \u001b[1m6s\u001b[0m 3ms/step - accuracy: 0.9634 - loss: 0.0890 - val_accuracy: 0.9581 - val_loss: 0.0925\n",
            "Epoch 7/25\n",
            "\u001b[1m1630/1630\u001b[0m \u001b[32m━━━━━━━━━━━━━━━━━━━━\u001b[0m\u001b[37m\u001b[0m \u001b[1m4s\u001b[0m 2ms/step - accuracy: 0.9647 - loss: 0.0858 - val_accuracy: 0.9660 - val_loss: 0.0861\n",
            "Epoch 8/25\n",
            "\u001b[1m1630/1630\u001b[0m \u001b[32m━━━━━━━━━━━━━━━━━━━━\u001b[0m\u001b[37m\u001b[0m \u001b[1m5s\u001b[0m 2ms/step - accuracy: 0.9675 - loss: 0.0781 - val_accuracy: 0.9667 - val_loss: 0.0812\n",
            "Epoch 9/25\n",
            "\u001b[1m1630/1630\u001b[0m \u001b[32m━━━━━━━━━━━━━━━━━━━━\u001b[0m\u001b[37m\u001b[0m \u001b[1m7s\u001b[0m 3ms/step - accuracy: 0.9705 - loss: 0.0732 - val_accuracy: 0.9701 - val_loss: 0.0786\n",
            "Epoch 10/25\n",
            "\u001b[1m1630/1630\u001b[0m \u001b[32m━━━━━━━━━━━━━━━━━━━━\u001b[0m\u001b[37m\u001b[0m \u001b[1m4s\u001b[0m 2ms/step - accuracy: 0.9685 - loss: 0.0734 - val_accuracy: 0.9565 - val_loss: 0.1042\n",
            "Epoch 11/25\n",
            "\u001b[1m1630/1630\u001b[0m \u001b[32m━━━━━━━━━━━━━━━━━━━━\u001b[0m\u001b[37m\u001b[0m \u001b[1m5s\u001b[0m 2ms/step - accuracy: 0.9714 - loss: 0.0711 - val_accuracy: 0.9562 - val_loss: 0.1032\n",
            "Epoch 12/25\n",
            "\u001b[1m1630/1630\u001b[0m \u001b[32m━━━━━━━━━━━━━━━━━━━━\u001b[0m\u001b[37m\u001b[0m \u001b[1m6s\u001b[0m 3ms/step - accuracy: 0.9716 - loss: 0.0670 - val_accuracy: 0.9696 - val_loss: 0.0704\n",
            "Epoch 13/25\n",
            "\u001b[1m1630/1630\u001b[0m \u001b[32m━━━━━━━━━━━━━━━━━━━━\u001b[0m\u001b[37m\u001b[0m \u001b[1m3s\u001b[0m 2ms/step - accuracy: 0.9747 - loss: 0.0604 - val_accuracy: 0.9715 - val_loss: 0.0684\n",
            "Epoch 14/25\n",
            "\u001b[1m1630/1630\u001b[0m \u001b[32m━━━━━━━━━━━━━━━━━━━━\u001b[0m\u001b[37m\u001b[0m \u001b[1m5s\u001b[0m 2ms/step - accuracy: 0.9736 - loss: 0.0617 - val_accuracy: 0.9743 - val_loss: 0.0708\n",
            "Epoch 15/25\n",
            "\u001b[1m1630/1630\u001b[0m \u001b[32m━━━━━━━━━━━━━━━━━━━━\u001b[0m\u001b[37m\u001b[0m \u001b[1m5s\u001b[0m 2ms/step - accuracy: 0.9749 - loss: 0.0600 - val_accuracy: 0.9707 - val_loss: 0.0697\n",
            "Epoch 16/25\n",
            "\u001b[1m1630/1630\u001b[0m \u001b[32m━━━━━━━━━━━━━━━━━━━━\u001b[0m\u001b[37m\u001b[0m \u001b[1m5s\u001b[0m 2ms/step - accuracy: 0.9768 - loss: 0.0564 - val_accuracy: 0.9701 - val_loss: 0.0708\n",
            "Epoch 17/25\n",
            "\u001b[1m1630/1630\u001b[0m \u001b[32m━━━━━━━━━━━━━━━━━━━━\u001b[0m\u001b[37m\u001b[0m \u001b[1m4s\u001b[0m 2ms/step - accuracy: 0.9763 - loss: 0.0563 - val_accuracy: 0.9732 - val_loss: 0.0641\n",
            "Epoch 18/25\n",
            "\u001b[1m1630/1630\u001b[0m \u001b[32m━━━━━━━━━━━━━━━━━━━━\u001b[0m\u001b[37m\u001b[0m \u001b[1m5s\u001b[0m 2ms/step - accuracy: 0.9791 - loss: 0.0512 - val_accuracy: 0.9732 - val_loss: 0.0677\n",
            "Epoch 19/25\n",
            "\u001b[1m1630/1630\u001b[0m \u001b[32m━━━━━━━━━━━━━━━━━━━━\u001b[0m\u001b[37m\u001b[0m \u001b[1m5s\u001b[0m 2ms/step - accuracy: 0.9760 - loss: 0.0553 - val_accuracy: 0.9753 - val_loss: 0.0576\n",
            "Epoch 20/25\n",
            "\u001b[1m1630/1630\u001b[0m \u001b[32m━━━━━━━━━━━━━━━━━━━━\u001b[0m\u001b[37m\u001b[0m \u001b[1m6s\u001b[0m 3ms/step - accuracy: 0.9779 - loss: 0.0511 - val_accuracy: 0.9684 - val_loss: 0.0838\n",
            "Epoch 21/25\n",
            "\u001b[1m1630/1630\u001b[0m \u001b[32m━━━━━━━━━━━━━━━━━━━━\u001b[0m\u001b[37m\u001b[0m \u001b[1m4s\u001b[0m 2ms/step - accuracy: 0.9778 - loss: 0.0512 - val_accuracy: 0.9608 - val_loss: 0.0971\n",
            "Epoch 22/25\n",
            "\u001b[1m1630/1630\u001b[0m \u001b[32m━━━━━━━━━━━━━━━━━━━━\u001b[0m\u001b[37m\u001b[0m \u001b[1m5s\u001b[0m 2ms/step - accuracy: 0.9793 - loss: 0.0499 - val_accuracy: 0.9745 - val_loss: 0.0601\n",
            "Epoch 23/25\n",
            "\u001b[1m1630/1630\u001b[0m \u001b[32m━━━━━━━━━━━━━━━━━━━━\u001b[0m\u001b[37m\u001b[0m \u001b[1m5s\u001b[0m 3ms/step - accuracy: 0.9816 - loss: 0.0443 - val_accuracy: 0.9715 - val_loss: 0.0659\n",
            "Epoch 24/25\n",
            "\u001b[1m1630/1630\u001b[0m \u001b[32m━━━━━━━━━━━━━━━━━━━━\u001b[0m\u001b[37m\u001b[0m \u001b[1m4s\u001b[0m 2ms/step - accuracy: 0.9814 - loss: 0.0458 - val_accuracy: 0.9722 - val_loss: 0.0651\n",
            "Training Fold 9/10\n",
            "Epoch 1/25\n"
          ]
        },
        {
          "name": "stderr",
          "output_type": "stream",
          "text": [
            "/usr/local/lib/python3.11/dist-packages/keras/src/layers/core/dense.py:87: UserWarning: Do not pass an `input_shape`/`input_dim` argument to a layer. When using Sequential models, prefer using an `Input(shape)` object as the first layer in the model instead.\n",
            "  super().__init__(activity_regularizer=activity_regularizer, **kwargs)\n"
          ]
        },
        {
          "name": "stdout",
          "output_type": "stream",
          "text": [
            "\u001b[1m1630/1630\u001b[0m \u001b[32m━━━━━━━━━━━━━━━━━━━━\u001b[0m\u001b[37m\u001b[0m \u001b[1m57s\u001b[0m 3ms/step - accuracy: 0.8328 - loss: 0.3526 - val_accuracy: 0.9185 - val_loss: 0.2041\n",
            "Epoch 2/25\n",
            "\u001b[1m1630/1630\u001b[0m \u001b[32m━━━━━━━━━━━━━━━━━━━━\u001b[0m\u001b[37m\u001b[0m \u001b[1m3s\u001b[0m 2ms/step - accuracy: 0.9244 - loss: 0.1840 - val_accuracy: 0.9463 - val_loss: 0.1405\n",
            "Epoch 3/25\n",
            "\u001b[1m1630/1630\u001b[0m \u001b[32m━━━━━━━━━━━━━━━━━━━━\u001b[0m\u001b[37m\u001b[0m \u001b[1m3s\u001b[0m 2ms/step - accuracy: 0.9456 - loss: 0.1372 - val_accuracy: 0.9373 - val_loss: 0.1459\n",
            "Epoch 4/25\n",
            "\u001b[1m1630/1630\u001b[0m \u001b[32m━━━━━━━━━━━━━━━━━━━━\u001b[0m\u001b[37m\u001b[0m \u001b[1m6s\u001b[0m 3ms/step - accuracy: 0.9520 - loss: 0.1187 - val_accuracy: 0.9537 - val_loss: 0.1137\n",
            "Epoch 5/25\n",
            "\u001b[1m1630/1630\u001b[0m \u001b[32m━━━━━━━━━━━━━━━━━━━━\u001b[0m\u001b[37m\u001b[0m \u001b[1m4s\u001b[0m 2ms/step - accuracy: 0.9571 - loss: 0.1043 - val_accuracy: 0.9658 - val_loss: 0.0931\n",
            "Epoch 6/25\n",
            "\u001b[1m1630/1630\u001b[0m \u001b[32m━━━━━━━━━━━━━━━━━━━━\u001b[0m\u001b[37m\u001b[0m \u001b[1m3s\u001b[0m 2ms/step - accuracy: 0.9632 - loss: 0.0908 - val_accuracy: 0.9662 - val_loss: 0.0892\n",
            "Epoch 7/25\n",
            "\u001b[1m1630/1630\u001b[0m \u001b[32m━━━━━━━━━━━━━━━━━━━━\u001b[0m\u001b[37m\u001b[0m \u001b[1m6s\u001b[0m 2ms/step - accuracy: 0.9670 - loss: 0.0809 - val_accuracy: 0.9527 - val_loss: 0.1122\n",
            "Epoch 8/25\n",
            "\u001b[1m1630/1630\u001b[0m \u001b[32m━━━━━━━━━━━━━━━━━━━━\u001b[0m\u001b[37m\u001b[0m \u001b[1m4s\u001b[0m 2ms/step - accuracy: 0.9692 - loss: 0.0763 - val_accuracy: 0.9641 - val_loss: 0.0871\n",
            "Epoch 9/25\n",
            "\u001b[1m1630/1630\u001b[0m \u001b[32m━━━━━━━━━━━━━━━━━━━━\u001b[0m\u001b[37m\u001b[0m \u001b[1m5s\u001b[0m 2ms/step - accuracy: 0.9713 - loss: 0.0717 - val_accuracy: 0.9679 - val_loss: 0.0759\n",
            "Epoch 10/25\n",
            "\u001b[1m1630/1630\u001b[0m \u001b[32m━━━━━━━━━━━━━━━━━━━━\u001b[0m\u001b[37m\u001b[0m \u001b[1m6s\u001b[0m 3ms/step - accuracy: 0.9709 - loss: 0.0683 - val_accuracy: 0.9539 - val_loss: 0.1009\n",
            "Epoch 11/25\n",
            "\u001b[1m1630/1630\u001b[0m \u001b[32m━━━━━━━━━━━━━━━━━━━━\u001b[0m\u001b[37m\u001b[0m \u001b[1m4s\u001b[0m 2ms/step - accuracy: 0.9740 - loss: 0.0624 - val_accuracy: 0.9688 - val_loss: 0.0729\n",
            "Epoch 12/25\n",
            "\u001b[1m1630/1630\u001b[0m \u001b[32m━━━━━━━━━━━━━━━━━━━━\u001b[0m\u001b[37m\u001b[0m \u001b[1m5s\u001b[0m 2ms/step - accuracy: 0.9749 - loss: 0.0595 - val_accuracy: 0.9710 - val_loss: 0.0740\n",
            "Epoch 13/25\n",
            "\u001b[1m1630/1630\u001b[0m \u001b[32m━━━━━━━━━━━━━━━━━━━━\u001b[0m\u001b[37m\u001b[0m \u001b[1m6s\u001b[0m 2ms/step - accuracy: 0.9732 - loss: 0.0614 - val_accuracy: 0.9684 - val_loss: 0.0760\n",
            "Epoch 14/25\n",
            "\u001b[1m1630/1630\u001b[0m \u001b[32m━━━━━━━━━━━━━━━━━━━━\u001b[0m\u001b[37m\u001b[0m \u001b[1m5s\u001b[0m 2ms/step - accuracy: 0.9757 - loss: 0.0582 - val_accuracy: 0.9719 - val_loss: 0.0626\n",
            "Epoch 15/25\n",
            "\u001b[1m1630/1630\u001b[0m \u001b[32m━━━━━━━━━━━━━━━━━━━━\u001b[0m\u001b[37m\u001b[0m \u001b[1m3s\u001b[0m 2ms/step - accuracy: 0.9763 - loss: 0.0561 - val_accuracy: 0.9734 - val_loss: 0.0635\n",
            "Epoch 16/25\n",
            "\u001b[1m1630/1630\u001b[0m \u001b[32m━━━━━━━━━━━━━━━━━━━━\u001b[0m\u001b[37m\u001b[0m \u001b[1m5s\u001b[0m 3ms/step - accuracy: 0.9759 - loss: 0.0559 - val_accuracy: 0.9750 - val_loss: 0.0587\n",
            "Epoch 17/25\n",
            "\u001b[1m1630/1630\u001b[0m \u001b[32m━━━━━━━━━━━━━━━━━━━━\u001b[0m\u001b[37m\u001b[0m \u001b[1m3s\u001b[0m 2ms/step - accuracy: 0.9793 - loss: 0.0495 - val_accuracy: 0.9741 - val_loss: 0.0578\n",
            "Epoch 18/25\n",
            "\u001b[1m1630/1630\u001b[0m \u001b[32m━━━━━━━━━━━━━━━━━━━━\u001b[0m\u001b[37m\u001b[0m \u001b[1m3s\u001b[0m 2ms/step - accuracy: 0.9788 - loss: 0.0517 - val_accuracy: 0.9755 - val_loss: 0.0560\n",
            "Epoch 19/25\n",
            "\u001b[1m1630/1630\u001b[0m \u001b[32m━━━━━━━━━━━━━━━━━━━━\u001b[0m\u001b[37m\u001b[0m \u001b[1m4s\u001b[0m 2ms/step - accuracy: 0.9798 - loss: 0.0475 - val_accuracy: 0.9745 - val_loss: 0.0606\n",
            "Epoch 20/25\n",
            "\u001b[1m1630/1630\u001b[0m \u001b[32m━━━━━━━━━━━━━━━━━━━━\u001b[0m\u001b[37m\u001b[0m \u001b[1m4s\u001b[0m 3ms/step - accuracy: 0.9798 - loss: 0.0492 - val_accuracy: 0.9710 - val_loss: 0.0639\n",
            "Epoch 21/25\n",
            "\u001b[1m1630/1630\u001b[0m \u001b[32m━━━━━━━━━━━━━━━━━━━━\u001b[0m\u001b[37m\u001b[0m \u001b[1m4s\u001b[0m 2ms/step - accuracy: 0.9783 - loss: 0.0494 - val_accuracy: 0.9703 - val_loss: 0.0651\n",
            "Epoch 22/25\n",
            "\u001b[1m1630/1630\u001b[0m \u001b[32m━━━━━━━━━━━━━━━━━━━━\u001b[0m\u001b[37m\u001b[0m \u001b[1m3s\u001b[0m 2ms/step - accuracy: 0.9790 - loss: 0.0494 - val_accuracy: 0.9719 - val_loss: 0.0585\n",
            "Epoch 23/25\n",
            "\u001b[1m1630/1630\u001b[0m \u001b[32m━━━━━━━━━━━━━━━━━━━━\u001b[0m\u001b[37m\u001b[0m \u001b[1m6s\u001b[0m 3ms/step - accuracy: 0.9793 - loss: 0.0479 - val_accuracy: 0.9748 - val_loss: 0.0557\n",
            "Epoch 24/25\n",
            "\u001b[1m1630/1630\u001b[0m \u001b[32m━━━━━━━━━━━━━━━━━━━━\u001b[0m\u001b[37m\u001b[0m \u001b[1m4s\u001b[0m 2ms/step - accuracy: 0.9804 - loss: 0.0471 - val_accuracy: 0.9758 - val_loss: 0.0561\n",
            "Epoch 25/25\n",
            "\u001b[1m1630/1630\u001b[0m \u001b[32m━━━━━━━━━━━━━━━━━━━━\u001b[0m\u001b[37m\u001b[0m \u001b[1m6s\u001b[0m 2ms/step - accuracy: 0.9810 - loss: 0.0431 - val_accuracy: 0.9750 - val_loss: 0.0624\n",
            "Training Fold 10/10\n",
            "Epoch 1/25\n"
          ]
        },
        {
          "name": "stderr",
          "output_type": "stream",
          "text": [
            "/usr/local/lib/python3.11/dist-packages/keras/src/layers/core/dense.py:87: UserWarning: Do not pass an `input_shape`/`input_dim` argument to a layer. When using Sequential models, prefer using an `Input(shape)` object as the first layer in the model instead.\n",
            "  super().__init__(activity_regularizer=activity_regularizer, **kwargs)\n"
          ]
        },
        {
          "name": "stdout",
          "output_type": "stream",
          "text": [
            "\u001b[1m1630/1630\u001b[0m \u001b[32m━━━━━━━━━━━━━━━━━━━━\u001b[0m\u001b[37m\u001b[0m \u001b[1m5s\u001b[0m 2ms/step - accuracy: 0.8289 - loss: 0.3609 - val_accuracy: 0.8904 - val_loss: 0.2452\n",
            "Epoch 2/25\n",
            "\u001b[1m1630/1630\u001b[0m \u001b[32m━━━━━━━━━━━━━━━━━━━━\u001b[0m\u001b[37m\u001b[0m \u001b[1m5s\u001b[0m 2ms/step - accuracy: 0.9252 - loss: 0.1818 - val_accuracy: 0.9254 - val_loss: 0.1804\n",
            "Epoch 3/25\n",
            "\u001b[1m1630/1630\u001b[0m \u001b[32m━━━━━━━━━━━━━━━━━━━━\u001b[0m\u001b[37m\u001b[0m \u001b[1m4s\u001b[0m 3ms/step - accuracy: 0.9453 - loss: 0.1404 - val_accuracy: 0.9482 - val_loss: 0.1191\n",
            "Epoch 4/25\n",
            "\u001b[1m1630/1630\u001b[0m \u001b[32m━━━━━━━━━━━━━━━━━━━━\u001b[0m\u001b[37m\u001b[0m \u001b[1m4s\u001b[0m 2ms/step - accuracy: 0.9559 - loss: 0.1124 - val_accuracy: 0.9591 - val_loss: 0.1030\n",
            "Epoch 5/25\n",
            "\u001b[1m1630/1630\u001b[0m \u001b[32m━━━━━━━━━━━━━━━━━━━━\u001b[0m\u001b[37m\u001b[0m \u001b[1m3s\u001b[0m 2ms/step - accuracy: 0.9590 - loss: 0.1019 - val_accuracy: 0.9474 - val_loss: 0.1139\n",
            "Epoch 6/25\n",
            "\u001b[1m1630/1630\u001b[0m \u001b[32m━━━━━━━━━━━━━━━━━━━━\u001b[0m\u001b[37m\u001b[0m \u001b[1m3s\u001b[0m 2ms/step - accuracy: 0.9643 - loss: 0.0900 - val_accuracy: 0.9546 - val_loss: 0.1011\n",
            "Epoch 7/25\n",
            "\u001b[1m1630/1630\u001b[0m \u001b[32m━━━━━━━━━━━━━━━━━━━━\u001b[0m\u001b[37m\u001b[0m \u001b[1m5s\u001b[0m 3ms/step - accuracy: 0.9665 - loss: 0.0820 - val_accuracy: 0.9639 - val_loss: 0.0832\n",
            "Epoch 8/25\n",
            "\u001b[1m1630/1630\u001b[0m \u001b[32m━━━━━━━━━━━━━━━━━━━━\u001b[0m\u001b[37m\u001b[0m \u001b[1m3s\u001b[0m 2ms/step - accuracy: 0.9695 - loss: 0.0769 - val_accuracy: 0.9681 - val_loss: 0.0802\n",
            "Epoch 9/25\n",
            "\u001b[1m1630/1630\u001b[0m \u001b[32m━━━━━━━━━━━━━━━━━━━━\u001b[0m\u001b[37m\u001b[0m \u001b[1m5s\u001b[0m 2ms/step - accuracy: 0.9681 - loss: 0.0750 - val_accuracy: 0.9537 - val_loss: 0.1000\n",
            "Epoch 10/25\n",
            "\u001b[1m1630/1630\u001b[0m \u001b[32m━━━━━━━━━━━━━━━━━━━━\u001b[0m\u001b[37m\u001b[0m \u001b[1m6s\u001b[0m 2ms/step - accuracy: 0.9705 - loss: 0.0702 - val_accuracy: 0.9658 - val_loss: 0.0878\n",
            "Epoch 11/25\n",
            "\u001b[1m1630/1630\u001b[0m \u001b[32m━━━━━━━━━━━━━━━━━━━━\u001b[0m\u001b[37m\u001b[0m \u001b[1m3s\u001b[0m 2ms/step - accuracy: 0.9717 - loss: 0.0680 - val_accuracy: 0.9684 - val_loss: 0.0740\n",
            "Epoch 12/25\n",
            "\u001b[1m1630/1630\u001b[0m \u001b[32m━━━━━━━━━━━━━━━━━━━━\u001b[0m\u001b[37m\u001b[0m \u001b[1m3s\u001b[0m 2ms/step - accuracy: 0.9729 - loss: 0.0647 - val_accuracy: 0.9606 - val_loss: 0.0965\n",
            "Epoch 13/25\n",
            "\u001b[1m1630/1630\u001b[0m \u001b[32m━━━━━━━━━━━━━━━━━━━━\u001b[0m\u001b[37m\u001b[0m \u001b[1m4s\u001b[0m 3ms/step - accuracy: 0.9733 - loss: 0.0632 - val_accuracy: 0.9577 - val_loss: 0.1024\n",
            "Epoch 14/25\n",
            "\u001b[1m1630/1630\u001b[0m \u001b[32m━━━━━━━━━━━━━━━━━━━━\u001b[0m\u001b[37m\u001b[0m \u001b[1m4s\u001b[0m 2ms/step - accuracy: 0.9741 - loss: 0.0608 - val_accuracy: 0.9720 - val_loss: 0.0670\n",
            "Epoch 15/25\n",
            "\u001b[1m1630/1630\u001b[0m \u001b[32m━━━━━━━━━━━━━━━━━━━━\u001b[0m\u001b[37m\u001b[0m \u001b[1m3s\u001b[0m 2ms/step - accuracy: 0.9751 - loss: 0.0601 - val_accuracy: 0.9681 - val_loss: 0.0732\n",
            "Epoch 16/25\n",
            "\u001b[1m1630/1630\u001b[0m \u001b[32m━━━━━━━━━━━━━━━━━━━━\u001b[0m\u001b[37m\u001b[0m \u001b[1m3s\u001b[0m 2ms/step - accuracy: 0.9753 - loss: 0.0577 - val_accuracy: 0.9722 - val_loss: 0.0647\n",
            "Epoch 17/25\n",
            "\u001b[1m1630/1630\u001b[0m \u001b[32m━━━━━━━━━━━━━━━━━━━━\u001b[0m\u001b[37m\u001b[0m \u001b[1m5s\u001b[0m 2ms/step - accuracy: 0.9767 - loss: 0.0553 - val_accuracy: 0.9669 - val_loss: 0.0722\n",
            "Epoch 18/25\n",
            "\u001b[1m1630/1630\u001b[0m \u001b[32m━━━━━━━━━━━━━━━━━━━━\u001b[0m\u001b[37m\u001b[0m \u001b[1m3s\u001b[0m 2ms/step - accuracy: 0.9765 - loss: 0.0543 - val_accuracy: 0.9734 - val_loss: 0.0681\n",
            "Epoch 19/25\n",
            "\u001b[1m1630/1630\u001b[0m \u001b[32m━━━━━━━━━━━━━━━━━━━━\u001b[0m\u001b[37m\u001b[0m \u001b[1m6s\u001b[0m 2ms/step - accuracy: 0.9768 - loss: 0.0547 - val_accuracy: 0.9720 - val_loss: 0.0707\n",
            "Epoch 20/25\n",
            "\u001b[1m1630/1630\u001b[0m \u001b[32m━━━━━━━━━━━━━━━━━━━━\u001b[0m\u001b[37m\u001b[0m \u001b[1m4s\u001b[0m 2ms/step - accuracy: 0.9799 - loss: 0.0490 - val_accuracy: 0.9651 - val_loss: 0.0816\n",
            "Epoch 21/25\n",
            "\u001b[1m1630/1630\u001b[0m \u001b[32m━━━━━━━━━━━━━━━━━━━━\u001b[0m\u001b[37m\u001b[0m \u001b[1m3s\u001b[0m 2ms/step - accuracy: 0.9770 - loss: 0.0530 - val_accuracy: 0.9713 - val_loss: 0.0646\n",
            "Epoch 22/25\n",
            "\u001b[1m1630/1630\u001b[0m \u001b[32m━━━━━━━━━━━━━━━━━━━━\u001b[0m\u001b[37m\u001b[0m \u001b[1m6s\u001b[0m 3ms/step - accuracy: 0.9791 - loss: 0.0494 - val_accuracy: 0.9732 - val_loss: 0.0627\n",
            "Epoch 23/25\n",
            "\u001b[1m1630/1630\u001b[0m \u001b[32m━━━━━━━━━━━━━━━━━━━━\u001b[0m\u001b[37m\u001b[0m \u001b[1m5s\u001b[0m 3ms/step - accuracy: 0.9802 - loss: 0.0471 - val_accuracy: 0.9684 - val_loss: 0.0731\n",
            "Epoch 24/25\n",
            "\u001b[1m1630/1630\u001b[0m \u001b[32m━━━━━━━━━━━━━━━━━━━━\u001b[0m\u001b[37m\u001b[0m \u001b[1m6s\u001b[0m 3ms/step - accuracy: 0.9802 - loss: 0.0476 - val_accuracy: 0.9705 - val_loss: 0.0678\n",
            "Epoch 25/25\n",
            "\u001b[1m1630/1630\u001b[0m \u001b[32m━━━━━━━━━━━━━━━━━━━━\u001b[0m\u001b[37m\u001b[0m \u001b[1m5s\u001b[0m 3ms/step - accuracy: 0.9810 - loss: 0.0459 - val_accuracy: 0.9710 - val_loss: 0.0706\n",
            "Average CV Accuracy: 0.9756\n"
          ]
        }
      ],
      "source": [
        "import tensorflow as tf\n",
        "from sklearn.model_selection import train_test_split, KFold\n",
        "\n",
        "# Assuming 'data' contains features and labels, split them first\n",
        "X = data.drop(columns=[\"Churn\"])  # Replace \"Churn\" with your actual target column\n",
        "y = data[\"Churn\"]\n",
        "\n",
        "# First, create a holdout validation set (10% of the data)\n",
        "X_train, X_val, y_train, y_val = train_test_split(X, y, test_size=0.1, random_state=42, stratify=None)\n",
        "\n",
        "# Initialize K-Fold Cross Validation\n",
        "kf = KFold(n_splits=10, shuffle=True, random_state=42)\n",
        "\n",
        "# Store validation scores\n",
        "fold_accuracies = []\n",
        "\n",
        "for fold, (train_index, val_index) in enumerate(kf.split(X_train)):\n",
        "    print(f\"Training Fold {fold + 1}/10\")\n",
        "\n",
        "    X_fold_train, X_fold_val = X_train.iloc[train_index], X_train.iloc[val_index]\n",
        "    y_fold_train, y_fold_val = y_train.iloc[train_index], y_train.iloc[val_index]\n",
        "\n",
        "    # Define a new model for each fold\n",
        "    model = tf.keras.Sequential([\n",
        "        tf.keras.layers.Dense(128, activation='relu', input_shape=(X_train.shape[1],)), # Input layer for tabular data\n",
        "        tf.keras.layers.Dense(64, activation='relu'), # Extra layer for better learning\n",
        "        tf.keras.layers.Dense(1, activation='sigmoid')  # Output layer for binary classification\n",
        "    ])\n",
        "\n",
        "    model.compile(optimizer='adam',\n",
        "                  loss='binary_crossentropy',\n",
        "                  metrics=['accuracy'])\n",
        "\n",
        "    # Early stopping to prevent overfitting\n",
        "    early_stopping = tf.keras.callbacks.EarlyStopping(monitor='val_loss', patience=5, restore_best_weights=True)\n",
        "\n",
        "    # Train model on this fold\n",
        "    history = model.fit(X_fold_train, y_fold_train,\n",
        "                        validation_data=(X_fold_val, y_fold_val),\n",
        "                        epochs=25, batch_size=32,\n",
        "                        callbacks=[early_stopping], verbose=1)\n",
        "\n",
        "    # Evaluate on validation fold\n",
        "    val_loss, val_accuracy = model.evaluate(X_fold_val, y_fold_val, verbose=0)\n",
        "    fold_accuracies.append(val_accuracy)\n",
        "\n",
        "# Print average accuracy across folds\n",
        "print(f\"Average CV Accuracy: {sum(fold_accuracies) / len(fold_accuracies):.4f}\")"
      ]
    },
    {
      "cell_type": "code",
      "execution_count": null,
      "metadata": {
        "colab": {
          "base_uri": "https://localhost:8080/"
        },
        "id": "isTVYiivR2cQ",
        "outputId": "c1894be7-fc84-4d19-9ede-27a1c33749fa"
      },
      "outputs": [
        {
          "name": "stdout",
          "output_type": "stream",
          "text": [
            "\u001b[1m2012/2012\u001b[0m \u001b[32m━━━━━━━━━━━━━━━━━━━━\u001b[0m\u001b[37m\u001b[0m \u001b[1m3s\u001b[0m 1ms/step - accuracy: 0.9825 - loss: 0.0425\n",
            "\n",
            "Final Test Accuracy: 0.9813\n"
          ]
        }
      ],
      "source": [
        "# Load the test dataset\n",
        "test_data = pd.read_csv(r\"processed_data\\preprocessed_testing.csv\")  # Replace with your actual test dataset path\n",
        "X_test = test_data.drop(columns=[\"Churn\"])\n",
        "y_test = test_data[\"Churn\"]\n",
        "\n",
        "# Evaluate on the test set (which was never used in training)\n",
        "test_loss, test_accuracy = model.evaluate(X_test, y_test, verbose=1)\n",
        "print(f\"\\nFinal Test Accuracy: {test_accuracy:.4f}\")\n"
      ]
    },
    {
      "cell_type": "code",
      "execution_count": 19,
      "metadata": {
        "colab": {
          "base_uri": "https://localhost:8080/"
        },
        "id": "kvMPRcxCUP61",
        "outputId": "5fdb0623-4b6a-445f-9880-a467aad45492"
      },
      "outputs": [
        {
          "name": "stderr",
          "output_type": "stream",
          "text": [
            "WARNING:absl:You are saving your model as an HDF5 file via `model.save()` or `keras.saving.save_model(model)`. This file format is considered legacy. We recommend using instead the native Keras format, e.g. `model.save('my_model.keras')` or `keras.saving.save_model(model, 'my_model.keras')`. \n"
          ]
        },
        {
          "name": "stdout",
          "output_type": "stream",
          "text": [
            "Model saved as final_model.h5\n"
          ]
        }
      ],
      "source": [
        "# Save the entire model (architecture + weights + optimizer state)\n",
        "model.save(\"final_model.h5\")\n",
        "print(\"Model saved as final_model.h5\")\n"
      ]
    },
    {
      "cell_type": "code",
      "execution_count": 20,
      "metadata": {
        "colab": {
          "base_uri": "https://localhost:8080/",
          "height": 977
        },
        "id": "DCZU6f3uVxCX",
        "outputId": "bfc08314-7aae-47dd-c879-5fa9946ef918"
      },
      "outputs": [
        {
          "name": "stdout",
          "output_type": "stream",
          "text": [
            "\u001b[1m2012/2012\u001b[0m \u001b[32m━━━━━━━━━━━━━━━━━━━━\u001b[0m\u001b[37m\u001b[0m \u001b[1m2s\u001b[0m 1ms/step\n"
          ]
        },
        {
          "data": {
            "image/png": "[encoded data removed]",
            "text/plain": [
              "<Figure size 600x400 with 2 Axes>"
            ]
          },
          "metadata": {},
          "output_type": "display_data"
        },
        {
          "name": "stdout",
          "output_type": "stream",
          "text": [
            "              precision    recall  f1-score   support\n",
            "\n",
            "           0       0.98      0.98      0.98     33881\n",
            "           1       0.98      0.98      0.98     30493\n",
            "\n",
            "    accuracy                           0.98     64374\n",
            "   macro avg       0.98      0.98      0.98     64374\n",
            "weighted avg       0.98      0.98      0.98     64374\n",
            "\n"
          ]
        },
        {
          "data": {
            "image/png": "[encoded data removed]",
            "text/plain": [
              "<Figure size 600x400 with 1 Axes>"
            ]
          },
          "metadata": {},
          "output_type": "display_data"
        }
      ],
      "source": [
        "import numpy as np\n",
        "\n",
        "# Get predicted probabilities (since last layer uses sigmoid, output is probability)\n",
        "y_probs = model.predict(X_test)\n",
        "\n",
        "# Convert probabilities to class labels (Threshold = 0.5)\n",
        "y_pred = (y_probs > 0.5).astype(\"int32\")\n",
        "import seaborn as sns\n",
        "import matplotlib.pyplot as plt\n",
        "from sklearn.metrics import confusion_matrix\n",
        "\n",
        "# Generate confusion matrix\n",
        "cm = confusion_matrix(y_test, y_pred)\n",
        "\n",
        "# Plot it\n",
        "plt.figure(figsize=(6, 4))\n",
        "sns.heatmap(cm, annot=True, fmt=\"d\", cmap=\"Blues\", xticklabels=[\"Not Churn\", \"Churn\"], yticklabels=[\"Not Churn\", \"Churn\"])\n",
        "plt.xlabel(\"Predicted Label\")\n",
        "plt.ylabel(\"True Label\")\n",
        "plt.title(\"Confusion Matrix\")\n",
        "plt.show()\n",
        "\n",
        "from sklearn.metrics import classification_report\n",
        "\n",
        "# Print precision, recall, F1-score\n",
        "print(classification_report(y_test, y_pred))\n",
        "\n",
        "from sklearn.metrics import roc_curve, auc\n",
        "\n",
        "# Compute ROC curve values\n",
        "fpr, tpr, _ = roc_curve(y_test, y_probs)\n",
        "auc_score = auc(fpr, tpr)\n",
        "\n",
        "# Plot ROC curve\n",
        "plt.figure(figsize=(6, 4))\n",
        "plt.plot(fpr, tpr, label=f\"AUC = {auc_score:.4f}\")\n",
        "plt.plot([0, 1], [0, 1], 'r--')  # Diagonal reference line\n",
        "plt.xlabel(\"False Positive Rate\")\n",
        "plt.ylabel(\"True Positive Rate\")\n",
        "plt.title(\"ROC Curve\")\n",
        "plt.legend()\n",
        "plt.show()\n",
        "\n"
      ]
    },
    {
      "cell_type": "code",
      "execution_count": null,
      "metadata": {
        "id": "mpYe4ZQqXZAE"
      },
      "outputs": [],
      "source": []
    }
  ],
  "metadata": {
    "colab": {
      "provenance": []
    },
    "kernelspec": {
      "display_name": "env",
      "language": "python",
      "name": "python3"
    },
    "language_info": {
      "name": "python",
      "version": "3.12.7"
    }
  },
  "nbformat": 4,
  "nbformat_minor": 0
}
